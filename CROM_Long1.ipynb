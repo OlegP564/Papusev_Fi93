{
  "nbformat": 4,
  "nbformat_minor": 0,
  "metadata": {
    "colab": {
      "name": "CROM_Long1.ipynb",
      "provenance": [],
      "collapsed_sections": [],
      "authorship_tag": "ABX9TyOOKf/lP2vteoCl5MCpkkax",
      "include_colab_link": true
    },
    "kernelspec": {
      "name": "python3",
      "display_name": "Python 3"
    },
    "language_info": {
      "name": "python"
    }
  },
  "cells": [
    {
      "cell_type": "markdown",
      "metadata": {
        "id": "view-in-github",
        "colab_type": "text"
      },
      "source": [
        "<a href=\"https://colab.research.google.com/github/OlegP564/Papusev_Fi93/blob/main/CROM_Long1.ipynb\" target=\"_parent\"><img src=\"https://colab.research.google.com/assets/colab-badge.svg\" alt=\"Open In Colab\"/></a>"
      ]
    },
    {
      "cell_type": "markdown",
      "metadata": {
        "id": "XukD1_NoEz37"
      },
      "source": [
        "2.1 представлення числа за основою В"
      ]
    },
    {
      "cell_type": "code",
      "metadata": {
        "id": "EZro6HYsDqWg",
        "colab": {
          "base_uri": "https://localhost:8080/"
        },
        "outputId": "a283bd2b-6e25-4401-90aa-f7f49d93d2c6"
      },
      "source": [
        "import numpy as num\n",
        "from array import *\n",
        "w=16\n",
        "B=2**w\n",
        "n =int (2048/w)\n",
        "print(n)\n"
      ],
      "execution_count": 1,
      "outputs": [
        {
          "output_type": "stream",
          "name": "stdout",
          "text": [
            "128\n"
          ]
        }
      ]
    },
    {
      "cell_type": "code",
      "metadata": {
        "id": "tLeZUL2PZtVc"
      },
      "source": [
        "def Linput():\n",
        "  A = input()\n",
        "  LongArray= array('I',[])\n",
        "  for i in range(0,len(A)):\n",
        "    LongArray.append(int(A[len(A)-i-1], base=16))\n",
        "  return LongArray"
      ],
      "execution_count": 2,
      "outputs": []
    },
    {
      "cell_type": "code",
      "metadata": {
        "id": "s7yS6g379tG2"
      },
      "source": [
        "def Loutput(LongArray):\n",
        "  X=str()\n",
        "  l=len(LongArray)\n",
        "  for i in range(0,l):\n",
        "    if LongArray[l-i-1]<10:\n",
        "      X=X+str(LongArray[l-i-1])\n",
        "    if LongArray[l-i-1]==10:\n",
        "      X=X+str('A')\n",
        "    if LongArray[l-i-1]==11:\n",
        "      X=X+str('B')\n",
        "    if LongArray[l-i-1]==12:\n",
        "      X=X+str('C')\n",
        "    if LongArray[l-i-1]==13:\n",
        "      X=X+str('D')  \n",
        "    if LongArray[l-i-1]==14:\n",
        "      X=X+str('E')  \n",
        "    if LongArray[l-i-1]==15:\n",
        "      X=X+str('F')\n",
        "  print(X)\n"
      ],
      "execution_count": 3,
      "outputs": []
    },
    {
      "cell_type": "code",
      "metadata": {
        "id": "25VAKMQdRC7i"
      },
      "source": [
        "def LongEqual(A,B):\n",
        "  la=len(A)\n",
        "  lb=len(B)\n",
        "  if la<lb :\n",
        "    for i in range(la+1,lb+1):\n",
        "      A.append(0)\n",
        "  if lb<la :\n",
        "    for i in range(lb+1,la+1):\n",
        "      B.append(0)    \n",
        "  return A,B\n"
      ],
      "execution_count": 4,
      "outputs": []
    },
    {
      "cell_type": "code",
      "metadata": {
        "id": "qx6_reT6jWUI"
      },
      "source": [
        "def LongAdd(A,B):\n",
        "  LongEqual(A,B)\n",
        "  l=len(A)\n",
        "  carry =0\n",
        "  LongArray= array('I',[])\n",
        "  for i in range(0,l):\n",
        "    temp= A[i]+B[i]+carry\n",
        "    c=num.mod(temp, 2**w)\n",
        "    LongArray.append(num.mod(c,w))\n",
        "    carry= int(temp//w)\n",
        "  if carry==1:\n",
        "    LongArray.append(1)\n",
        "  return LongArray"
      ],
      "execution_count": 5,
      "outputs": []
    },
    {
      "cell_type": "code",
      "metadata": {
        "id": "YaQri6NZlv69"
      },
      "source": [
        "def LongAdd2(A,B):\n",
        "  LongEqual(A,B)\n",
        "  l=len(A)\n",
        "  LongArray= array('I',[])\n",
        "  for i in range(0,l):\n",
        "    temp= A[i]+B[i]\n",
        "    LongArray.append(temp)\n",
        "  return LongArray"
      ],
      "execution_count": 6,
      "outputs": []
    },
    {
      "cell_type": "code",
      "metadata": {
        "id": "Zqi3XyGGNwXo"
      },
      "source": [
        "def LongCmp(A,B):\n",
        "  Temp1=A\n",
        "  Temp2=B\n",
        "  LongEqual(Temp1,Temp2)\n",
        "  la=len(Temp1)-1\n",
        "  while A[la]== B[la]:\n",
        "    la=la-1\n",
        "    if la==-1:\n",
        "      return 0\n",
        "  else:\n",
        "    if Temp1[la]>Temp2[la]:\n",
        "      return 1\n",
        "    else:\n",
        "       return -1\n",
        "  return r"
      ],
      "execution_count": 7,
      "outputs": []
    },
    {
      "cell_type": "code",
      "source": [
        "def LongSub (A,B):\n",
        "  LongEqual(A,B)\n",
        "  n=len(A)\n",
        "  LongArray= array('I',[])\n",
        "  borrow =0\n",
        "  for i in range(0,n):\n",
        "      temp=A[i]-B[i]-borrow\n",
        "      if temp>=0:\n",
        "         LongArray.append(temp)\n",
        "         borrow=0\n",
        "      else:\n",
        "         LongArray.append(w+temp)\n",
        "         borrow=1\n",
        "  return LongArray"
      ],
      "metadata": {
        "id": "m34-HcXfIKz5"
      },
      "execution_count": 8,
      "outputs": []
    },
    {
      "cell_type": "code",
      "metadata": {
        "id": "7BRj3fqFMgXG"
      },
      "source": [
        "def LongSub_Module (A,B):\n",
        "  LongEqual(A,B)\n",
        "  r=LongCmp(A,B)\n",
        "  n=len(A)\n",
        "  if r==-1:\n",
        "    C=A\n",
        "    A=B\n",
        "    B=C\n",
        "    r=1\n",
        "  if r==0:\n",
        "    return array('I',[0])\n",
        "  if r==1:\n",
        "    LongArray= array('I',[])\n",
        "    borrow =0\n",
        "    for i in range(0,n):\n",
        "        temp=A[i]-B[i]-borrow\n",
        "        if temp>=0:\n",
        "          LongArray.append(temp)\n",
        "          borrow=0\n",
        "        else:\n",
        "          LongArray.append(w+temp)\n",
        "          borrow=1\n",
        "    len(LongArray)\n",
        "    return LongArray"
      ],
      "execution_count": 9,
      "outputs": []
    },
    {
      "cell_type": "code",
      "metadata": {
        "id": "mK0q72D4ufYO"
      },
      "source": [
        "def LongMulOneDight(A,b):\n",
        "  carry=0\n",
        "  n=len(A)\n",
        "  LongArray= array('I',[])\n",
        "  for i in range (0,n):\n",
        "    temp= A[i]*b+carry\n",
        "    LongArray.append(num.mod(temp,w))\n",
        "    carry=int(temp//w)\n",
        "  LongArray.append(carry)\n",
        "  return LongArray"
      ],
      "execution_count": 10,
      "outputs": []
    },
    {
      "cell_type": "code",
      "metadata": {
        "id": "aUB-RC5obMRP"
      },
      "source": [
        "def LongMulOneDight2(A,b):\n",
        "  n=len(A)\n",
        "  LongArray= array('I',[])\n",
        "  for i in range (0,n):\n",
        "    temp= A[i]*b\n",
        "    LongArray.append(temp)\n",
        "  return LongArray"
      ],
      "execution_count": 11,
      "outputs": []
    },
    {
      "cell_type": "code",
      "metadata": {
        "id": "Qo73rd9q2RX4"
      },
      "source": [
        "def LongMull(A,B):\n",
        "  LongEqual(A,B)\n",
        "  la=len(A)\n",
        "  LongArray= array('I',[])\n",
        "  for i in range(0,la):\n",
        "    temp=LongMulOneDight(A,B[i])\n",
        "    for ii in range(0,i):\n",
        "      temp.insert(0,0)\n",
        "    LongArray=LongAdd(LongArray, temp)\n",
        "    short0(LongArray)\n",
        "  return LongArray\n"
      ],
      "execution_count": 12,
      "outputs": []
    },
    {
      "cell_type": "code",
      "metadata": {
        "id": "0xO0hrAH9I45"
      },
      "source": [
        "def LongSqare(A):\n",
        "  la=len(A)\n",
        "  LongArray= array('I',[])\n",
        "  temp1= array('I',[])\n",
        "  for i in range(0,la):\n",
        "    temp0=LongMulOneDight2(A,A[0])\n",
        "    for ii in range(0,i):\n",
        "      temp1.insert(len(temp1),0)\n",
        "    for ii in range(1,la-i):\n",
        "      temp1.append(temp0[ii])\n",
        "    for ii in range(0,i):\n",
        "      temp0.insert(0,temp1[i-1+(((i-1)-ii)*(la-1))])\n",
        "    for ii in range(0,i):\n",
        "      temp0.insert(0,0)\n",
        "    LongArray=LongAdd2(LongArray,temp0)\n",
        "    A.pop(0)\n",
        "    temp0=[]\n",
        "    \n",
        "  carry=0\n",
        "  LongArray2= array('I',[])\n",
        "  for i in range (0,len(LongArray)):\n",
        "    temp= LongArray[i]+carry\n",
        "    LongArray2.append(num.mod(temp,w))\n",
        "    carry=int(temp//w)\n",
        "\n",
        "  LongArray2.append(carry)\n",
        "  short0(LongArray2)\n",
        "  return LongArray2\n"
      ],
      "execution_count": 13,
      "outputs": []
    },
    {
      "cell_type": "code",
      "metadata": {
        "id": "-PmopLLGMCz8"
      },
      "source": [
        "def To2(A):\n",
        "  A=int(A)\n",
        "  LongArray= array('I',[])\n",
        "  for i in range (0,4):\n",
        "    LongArray.append(A%2)\n",
        "    A=A//2\n",
        "  return LongArray"
      ],
      "execution_count": 14,
      "outputs": []
    },
    {
      "cell_type": "code",
      "metadata": {
        "id": "42tcNYXt9ygr"
      },
      "source": [
        "def short0 (A):\n",
        "  la=len(A)\n",
        "  for i in range(0,la):\n",
        "    if A[la-i-1]==0:\n",
        "      A.pop(la-i-1)\n",
        "    else :\n",
        "      return A\n",
        "\n"
      ],
      "execution_count": 15,
      "outputs": []
    },
    {
      "cell_type": "code",
      "source": [
        "def KillLastDigits(A, b):\n",
        "  TempA= array('I',[])\n",
        "  for i in range (0, len(A)):\n",
        "     TempA.append(A[i])\n",
        "  la=len(TempA)\n",
        "  if la<=b:\n",
        "    for i in range(0,la):\n",
        "      TempA.pop(la-i-1)\n",
        "    return TempA\n",
        "  else:\n",
        "    for i in range(0,b):\n",
        "      TempA.pop(la-i-1)\n",
        "    return TempA"
      ],
      "metadata": {
        "id": "bxw9bb01Jrqm"
      },
      "execution_count": 72,
      "outputs": []
    },
    {
      "cell_type": "code",
      "metadata": {
        "id": "fVROFcmU25hq"
      },
      "source": [
        "def LongTo2(A):\n",
        "  A2=array('I',[])\n",
        "  la=len(A)\n",
        "  for i in range(0,la):\n",
        "    temp=To2(A[i])\n",
        "    for ii in range(0, 4):\n",
        "      A2.append(temp[ii])\n",
        "  return A2"
      ],
      "execution_count": 17,
      "outputs": []
    },
    {
      "cell_type": "code",
      "metadata": {
        "id": "zKbwhi1XxoS6"
      },
      "source": [
        "def LongTo10(A):\n",
        "  A10=array('I',[])\n",
        "  A2=LongTo2(A)\n",
        "  la=len(A2)\n",
        "  temp=0\n",
        "  for i in range(0,la):\n",
        "    temp=temp+A2[i]*(2**i)\n",
        "  for i in range(0,len(str(temp))):\n",
        "    A10.append(int(str(temp)[len(str(temp))-i-1], base=10))\n",
        "  return A10"
      ],
      "execution_count": 18,
      "outputs": []
    },
    {
      "cell_type": "code",
      "metadata": {
        "id": "JWK87g6LCIS1"
      },
      "source": [
        "def LongPower(A,B):\n",
        "  B=LongTo2(B)\n",
        "  short0(B)\n",
        "  lb=len(B)\n",
        "  LongArray= array('I',[1])\n",
        "  for i in range(0, lb):\n",
        "    if B[lb-i-1]==1:\n",
        "      LongArray=LongSqare(LongArray)\n",
        "      LongArray=LongMull(LongArray,A)\n",
        "    if B[lb-i-1]!=1:\n",
        "      LongArray=LongSqare(LongArray)\n",
        "  return LongArray\n"
      ],
      "execution_count": 19,
      "outputs": []
    },
    {
      "cell_type": "code",
      "metadata": {
        "id": "eYe-503U_svo"
      },
      "source": [
        "def LongShiftbeatstohigh (A, b):\n",
        "    Temp= array('I',[])\n",
        "    for i in range (0, len(A)):\n",
        "      Temp.append(A[i])\n",
        "    for i in range(0,b):\n",
        "      Temp.insert(0,0)\n",
        "    return Temp"
      ],
      "execution_count": 20,
      "outputs": []
    },
    {
      "cell_type": "code",
      "source": [
        "def Long2To16(A):\n",
        "  A16=array('I',[])\n",
        "  while len(A) % 4 !=0:\n",
        "    A.append(0)\n",
        "  for i in range (0, len(A), 4):\n",
        "    if A[i]==0:\n",
        "      if A[i+1]==0:\n",
        "        if A[i+2]==0:\n",
        "          if A[i+3]==0:\n",
        "            A16.append(0)\n",
        "          else:\n",
        "             A16.append(8)\n",
        "        else:\n",
        "          if A[i+3]==0:\n",
        "            A16.append(4)\n",
        "          else:\n",
        "            A16.append(12)\n",
        "      else:\n",
        "        if A[i+2]==0:\n",
        "          if A[i+3]==0:\n",
        "            A16.append(2)\n",
        "          else:\n",
        "             A16.append(10)\n",
        "        else:\n",
        "          if A[i+3]==0:\n",
        "            A16.append(6)\n",
        "          else:\n",
        "            A16.append(14)      \n",
        "    else:\n",
        "      if A[i+1]==0:\n",
        "        if A[i+2]==0:\n",
        "          if A[i+3]==0:\n",
        "            A16.append(1)\n",
        "          else:\n",
        "             A16.append(9)\n",
        "        else:\n",
        "          if A[i+3]==0:\n",
        "            A16.append(5)\n",
        "          else:\n",
        "            A16.append(13)\n",
        "      else:\n",
        "        if A[i+2]==0:\n",
        "          if A[i+3]==0:\n",
        "            A16.append(3)\n",
        "          else:\n",
        "             A16.append(11)\n",
        "        else:\n",
        "          if A[i+3]==0:\n",
        "            A16.append(7)\n",
        "          else:\n",
        "            A16.append(15)     \n",
        "  return A16"
      ],
      "metadata": {
        "id": "vhld21f3MIyO"
      },
      "execution_count": 21,
      "outputs": []
    },
    {
      "cell_type": "code",
      "source": [
        "def LongSub2(A,B):\n",
        "  LongEqual(A,B)\n",
        "  n=len(A)\n",
        "  LongArray= array('I',[])\n",
        "  borrow =0\n",
        "  for i in range(0,n):\n",
        "      temp=A[i]-B[i]-borrow\n",
        "      if temp>=0:\n",
        "         LongArray.append(temp)\n",
        "         borrow=0\n",
        "      else:\n",
        "         LongArray.append(2+temp)\n",
        "         borrow=1\n",
        "  return LongArray"
      ],
      "metadata": {
        "id": "awbAqmqR9UYA"
      },
      "execution_count": 22,
      "outputs": []
    },
    {
      "cell_type": "code",
      "metadata": {
        "id": "c-YPEgwoBWWW"
      },
      "source": [
        "def LongDivModQ(A,B):\n",
        "  LongArray= array('I',[])\n",
        "  A=LongTo2(A)\n",
        "  B=LongTo2(B)\n",
        "  B=short0(B)\n",
        "  lb=len(B)\n",
        "  R=A\n",
        "  Q=0\n",
        "  while LongCmp(R,B)>=0:\n",
        "    B=short0(B)\n",
        "    R=short0(R)\n",
        "    lr=len(R)\n",
        "    C=LongShiftbeatstohigh(B,lr-lb)\n",
        "    if LongCmp(R,C)<0:\n",
        "      lr=lr-1\n",
        "      B=short0(B)\n",
        "      C=LongShiftbeatstohigh(B,lr-lb)\n",
        "    R=LongSub2(R,C)\n",
        "    Q=(Q+(2**(lr-lb)))\n",
        "  for i in range(0,len(str(Q))):\n",
        "    LongArray.append(int(str(Q)[len(str(Q))-i-1], base=16))\n",
        "  LongArray=Long10To16(LongArray)\n",
        "  return LongArray"
      ],
      "execution_count": 23,
      "outputs": []
    },
    {
      "cell_type": "code",
      "source": [
        "def LongDivModR(A,B):\n",
        "  A=LongTo2(A)\n",
        "  B=LongTo2(B)\n",
        "  B=short0(B)\n",
        "  lb=len(B)\n",
        "  R=A\n",
        "  while LongCmp(R,B)>=0:\n",
        "    B=short0(B)\n",
        "    R=short0(R)\n",
        "    lr=len(R)\n",
        "    C=LongShiftbeatstohigh(B,lr-lb)\n",
        "    if LongCmp(R,C)<0:\n",
        "      lr=lr-1\n",
        "      B=short0(B)\n",
        "      C=LongShiftbeatstohigh(B,lr-lb)\n",
        "    R=LongSub2(R,C)\n",
        "  R=Long2To16(R)\n",
        "  return R"
      ],
      "metadata": {
        "id": "EjilUaGPxM_4"
      },
      "execution_count": 24,
      "outputs": []
    },
    {
      "cell_type": "code",
      "source": [
        "def Long10To16(A):\n",
        "    LongArray= array('I',[])\n",
        "    X=str()\n",
        "    for i in range(0,len(A)):\n",
        "      X=X+str(A[len(A)-i-1])\n",
        "    X=hex(int(X))\n",
        "    for i in range(0,len(X)-2):\n",
        "      LongArray.append(int(X[len(X)-1-i], base=16))\n",
        "    return LongArray"
      ],
      "metadata": {
        "id": "LGQ37C5al2d0"
      },
      "execution_count": 25,
      "outputs": []
    },
    {
      "cell_type": "code",
      "source": [
        "def LongMod(A,n):\n",
        "  LongArray= array('I',[])\n",
        "  TempA= array('I',[])\n",
        "  for i in range (0, len(A)):\n",
        "     TempA.append(A[i])\n",
        "  B= array('I',[0,1])\n",
        "  la=len(TempA)\n",
        "  laA=Long10To16(str(la))\n",
        "  U=LongDivModQ(LongPower(B,laA), n)\n",
        "  q=KillLastDigits(TempA,len(n)-1)\n",
        "  q=LongMull(q,U)\n",
        "  q=KillLastDigits(TempA,len(n)+1)\n",
        "  LongArray= LongSub(TempA,LongMull(q,n))\n",
        "  while (LongCmp(LongArray,n))!=-1:\n",
        "    LongArray=LongSub(LongArray, n)\n",
        "  return short0(LongArray)\n"
      ],
      "metadata": {
        "id": "5WodFPlfHo7B"
      },
      "execution_count": 77,
      "outputs": []
    },
    {
      "cell_type": "code",
      "source": [
        "def LongEvklid(A,B):\n",
        "  D= array('I',[0])\n",
        "  if LongCmp(A,B)==-1:\n",
        "    Temp0=B\n",
        "    Temp1=A\n",
        "  else:\n",
        "    Temp0=A\n",
        "    Temp1=B\n",
        "  while(LongCmp(Temp1,D)==1):\n",
        "    Temp2=Temp0\n",
        "    Temp0=Temp1\n",
        "    Temp1=LongDivModR(Temp2,Temp1)\n",
        "  return short0(Temp0)"
      ],
      "metadata": {
        "id": "AfOUG7JKw5tY"
      },
      "execution_count": 37,
      "outputs": []
    },
    {
      "cell_type": "code",
      "source": [
        "def LongNOK(A, B):\n",
        "  NOK= array('I',[0])\n",
        "  NOK=LongDivModQ(LongMull(A,B), LongEvklid(A,B))\n",
        "  return NOK\n"
      ],
      "metadata": {
        "id": "704HDZ063YoU"
      },
      "execution_count": 78,
      "outputs": []
    },
    {
      "cell_type": "code",
      "source": [
        "def LongSubMod (A,B,n):\n",
        "  LongArray=array('I',[0])\n",
        "  if LongCmp(A,B)==-1:\n",
        "    LongArray=LongSub(B,A)\n",
        "    LongArray=LongSub(n, LongDivModR(LongArray,n))\n",
        "  else:\n",
        "    LongArray=LongSub(A,B)\n",
        "    LongArray=LongDivModR(LongArray,n)\n",
        "  return LongArray"
      ],
      "metadata": {
        "id": "X_c0eqkV59RM"
      },
      "execution_count": 89,
      "outputs": []
    },
    {
      "cell_type": "code",
      "source": [
        "def LongAddMod (A,B,n):\n",
        "  LongArray=array('I',[0])\n",
        "  LongArray=LongAdd(A,B)\n",
        "  LongArray=LongDivModR(LongArray,n)\n",
        "  return LongArray"
      ],
      "metadata": {
        "id": "WVpAGcCN91KZ"
      },
      "execution_count": 46,
      "outputs": []
    },
    {
      "cell_type": "code",
      "source": [
        "def LongMullMod (A,B,n):\n",
        "  LongArray=array('I',[0])\n",
        "  LongArray=LongMull(A,B)\n",
        "  LongArray=LongDivModR(LongArray,n)\n",
        "  return LongArray"
      ],
      "metadata": {
        "id": "DGIRjP3d_vUp"
      },
      "execution_count": 94,
      "outputs": []
    },
    {
      "cell_type": "code",
      "source": [
        "def LongSqareMod (A,n):\n",
        "  LongArray=array('I',[0])\n",
        "  LongArray=LongSqare(A)\n",
        "  LongArray=LongDivModR(LongArray,n)\n",
        "  return LongArray"
      ],
      "metadata": {
        "id": "jzAxsLDCALb6"
      },
      "execution_count": 95,
      "outputs": []
    },
    {
      "cell_type": "code",
      "source": [
        "def LongPowerMod (A,B,n):\n",
        "  TempA=A\n",
        "  TempB=B\n",
        "  if LongCmp(B,n)!=-1:\n",
        "    TempB=LongDivModR(B,n)\n",
        "  TempB=LongTo2(TempB)\n",
        "  if LongCmp(A,n)!=-1:\n",
        "    TempA=LongDivModR(A,n)\n",
        "  short0(TempB)\n",
        "  lb=len(TempB)\n",
        "  LongArray= array('I',[1])\n",
        "  for i in range(0, lb):\n",
        "    if TempB[lb-i-1]==1:\n",
        "      LongArray=LongSqareMod(LongArray,n)\n",
        "      LongArray=LongMullMod(LongArray,A,n)\n",
        "    if TempB[lb-i-1]!=1:\n",
        "      LongArray=LongSqareMod(LongArray,n)\n",
        "  short0(LongArray)\n",
        "  return LongArray"
      ],
      "metadata": {
        "id": "lE6LNRnXA5pp"
      },
      "execution_count": 33,
      "outputs": []
    },
    {
      "cell_type": "code",
      "metadata": {
        "colab": {
          "base_uri": "https://localhost:8080/"
        },
        "id": "g1qawk3NsaiV",
        "outputId": "bf859b38-c4a5-40a9-e2c3-9ff3e55109e2"
      },
      "source": [
        "import time\n",
        "import random\n",
        "A=array('I',[])\n",
        "for i in range(0,100):\n",
        "  A.append(random.randint(0,15))\n",
        "B=array('I',[])\n",
        "for i in range(0,100):\n",
        "  B.append(random.randint(0,15))\n",
        "\n",
        "A=Linput()\n",
        "B=Linput()\n",
        "N=Linput()\n",
        "start_time=time.time()\n",
        "C=LongPowerMod(A,B,N)\n",
        "print(\"--- %s seconds ---\" % (time.time()-start_time))\n",
        "\n",
        "Loutput(C)"
      ],
      "execution_count": 98,
      "outputs": [
        {
          "output_type": "stream",
          "name": "stdout",
          "text": [
            "CED0F6B3027C4C0ED408A03EDC3011F72B9813BC664230CC5A831DA31C2D7E22B83E7E7DF3631A8CD55C3BCF00EC9EEDBAD11F0B2BA8854E7C7EFD2FE7FD0EAAF9F1B13297A99D396562777A0AEAEE7CAA0A3EFC4A1BB7685647FC25FBCB6D3D8B1EE4788248F0714932168D2BF19A3D0E078BCFF0AF4F64A14032AA67931823\n",
            "9181DBCE994DAC85566FCA0CC60F56A5ABC1CA498862554B8BA6448769B94E2EC6A4A0032FC86892127406B8C3FCAE74A945FF3C92EBC41E927E2A595B72A53B57210CCD85102DFA79BD8457D1BD3CE37ADDAF1D383141F53F2E7897AED3D5A3525C9BB40B6EBD611F676881337D757885009E635253F5B80FFB79140C913A3E\n",
            "3340E61CE70224FE109AA852D618FFBA53E9779C33B7782F73E55944AF6D54B75B7B537E2C57ADC8534A38433960F92DAF604D4F45FCD205280C63684FD3A711\n",
            "--- 297.94753193855286 seconds ---\n",
            "32DEED9F55F91925293A83CCCACFCE4164FA542AF57C0E2D41D1D9D1A93D5BD1D8047F2AE75796B55D1A76893CBF35793BFD213AE63FEAE857601AAEFC4552F1\n"
          ]
        }
      ]
    }
  ]
}