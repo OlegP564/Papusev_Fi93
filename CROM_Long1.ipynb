{
  "nbformat": 4,
  "nbformat_minor": 0,
  "metadata": {
    "colab": {
      "name": "CROM_Long1.ipynb",
      "provenance": [],
      "collapsed_sections": [],
      "authorship_tag": "ABX9TyMjp0AhkCAb9FIyHLJDzpm4",
      "include_colab_link": true
    },
    "kernelspec": {
      "name": "python3",
      "display_name": "Python 3"
    },
    "language_info": {
      "name": "python"
    }
  },
  "cells": [
    {
      "cell_type": "markdown",
      "metadata": {
        "id": "view-in-github",
        "colab_type": "text"
      },
      "source": [
        "<a href=\"https://colab.research.google.com/github/OlegP564/Papusev_Fi93/blob/main/CROM_Long1.ipynb\" target=\"_parent\"><img src=\"https://colab.research.google.com/assets/colab-badge.svg\" alt=\"Open In Colab\"/></a>"
      ]
    },
    {
      "cell_type": "markdown",
      "metadata": {
        "id": "XukD1_NoEz37"
      },
      "source": [
        "2.1 представлення числа за основою В"
      ]
    },
    {
      "cell_type": "code",
      "metadata": {
        "id": "EZro6HYsDqWg",
        "colab": {
          "base_uri": "https://localhost:8080/"
        },
        "outputId": "6134be1e-e3d6-4a2f-dc7b-a90ce9e35bfc"
      },
      "source": [
        "import numpy as num\n",
        "from array import *\n",
        "w=16\n",
        "B=2**w\n",
        "n =int (2048/w)\n",
        "print(n)\n"
      ],
      "execution_count": 2,
      "outputs": [
        {
          "output_type": "stream",
          "name": "stdout",
          "text": [
            "128\n"
          ]
        }
      ]
    },
    {
      "cell_type": "code",
      "metadata": {
        "id": "tLeZUL2PZtVc"
      },
      "source": [
        "def Linput():\n",
        "  A = input()\n",
        "  LongArray= array('I',[])\n",
        "  for i in range(0,len(A)):\n",
        "    LongArray.append(int(A[len(A)-i-1], base=16))\n",
        "  return LongArray"
      ],
      "execution_count": 3,
      "outputs": []
    },
    {
      "cell_type": "code",
      "metadata": {
        "id": "s7yS6g379tG2"
      },
      "source": [
        "def Loutput(LongArray):\n",
        "  X=str()\n",
        "  l=len(LongArray)\n",
        "  for i in range(0,l):\n",
        "    if LongArray[l-i-1]<10:\n",
        "      X=X+str(LongArray[l-i-1])\n",
        "    if LongArray[l-i-1]==10:\n",
        "      X=X+str('A')\n",
        "    if LongArray[l-i-1]==11:\n",
        "      X=X+str('B')\n",
        "    if LongArray[l-i-1]==12:\n",
        "      X=X+str('C')\n",
        "    if LongArray[l-i-1]==13:\n",
        "      X=X+str('D')  \n",
        "    if LongArray[l-i-1]==14:\n",
        "      X=X+str('E')  \n",
        "    if LongArray[l-i-1]==15:\n",
        "      X=X+str('F')\n",
        "  print(X)\n"
      ],
      "execution_count": 4,
      "outputs": []
    },
    {
      "cell_type": "code",
      "metadata": {
        "id": "25VAKMQdRC7i"
      },
      "source": [
        "def LongEqual(A,B):\n",
        "  la=len(A)\n",
        "  lb=len(B)\n",
        "  if la<lb :\n",
        "    for i in range(la+1,lb+1):\n",
        "      A.append(0)\n",
        "  if lb<la :\n",
        "    for i in range(lb+1,la+1):\n",
        "      B.append(0)    \n",
        "  return A,B\n"
      ],
      "execution_count": 5,
      "outputs": []
    },
    {
      "cell_type": "code",
      "metadata": {
        "id": "qx6_reT6jWUI"
      },
      "source": [
        "def LongAdd(A,B):\n",
        "  LongEqual(A,B)\n",
        "  l=len(A)\n",
        "  carry =0\n",
        "  LongArray= array('I',[])\n",
        "  for i in range(0,l):\n",
        "    temp= A[i]+B[i]+carry\n",
        "    c=num.mod(temp, 2**w)\n",
        "    LongArray.append(num.mod(c,w))\n",
        "    carry= int(temp//w)\n",
        "  if carry==1:\n",
        "    LongArray.append(1)\n",
        "  return LongArray"
      ],
      "execution_count": 6,
      "outputs": []
    },
    {
      "cell_type": "code",
      "metadata": {
        "id": "YaQri6NZlv69"
      },
      "source": [
        "def LongAdd2(A,B):\n",
        "  LongEqual(A,B)\n",
        "  l=len(A)\n",
        "  LongArray= array('I',[])\n",
        "  for i in range(0,l):\n",
        "    temp= A[i]+B[i]\n",
        "    LongArray.append(temp)\n",
        "  return LongArray"
      ],
      "execution_count": 7,
      "outputs": []
    },
    {
      "cell_type": "code",
      "metadata": {
        "id": "Zqi3XyGGNwXo"
      },
      "source": [
        "def LongCmp(A,B):\n",
        "  Temp1=A\n",
        "  Temp2=B\n",
        "  LongEqual(Temp1,Temp2)\n",
        "  la=len(Temp1)-1\n",
        "  while A[la]== B[la]:\n",
        "    la=la-1\n",
        "    if la==-1:\n",
        "      return 0\n",
        "  else:\n",
        "    if Temp1[la]>Temp2[la]:\n",
        "      return 1\n",
        "    else:\n",
        "       return -1\n",
        "  return r"
      ],
      "execution_count": 8,
      "outputs": []
    },
    {
      "cell_type": "code",
      "source": [
        "def LongSub (A,B):\n",
        "  LongEqual(A,B)\n",
        "  n=len(A)\n",
        "  LongArray= array('I',[])\n",
        "  borrow =0\n",
        "  for i in range(0,n):\n",
        "      temp=A[i]-B[i]-borrow\n",
        "      if temp>=0:\n",
        "         LongArray.append(temp)\n",
        "         borrow=0\n",
        "      else:\n",
        "         LongArray.append(w+temp)\n",
        "         borrow=1\n",
        "  return LongArray"
      ],
      "metadata": {
        "id": "m34-HcXfIKz5"
      },
      "execution_count": 9,
      "outputs": []
    },
    {
      "cell_type": "code",
      "metadata": {
        "id": "7BRj3fqFMgXG"
      },
      "source": [
        "def LongSub_Module (A,B):\n",
        "  LongEqual(A,B)\n",
        "  r=LongCmp(A,B)\n",
        "  n=len(A)\n",
        "  if r==-1:\n",
        "    C=A\n",
        "    A=B\n",
        "    B=C\n",
        "    r=1\n",
        "  if r==0:\n",
        "    return array('I',[0])\n",
        "  if r==1:\n",
        "    LongArray= array('I',[])\n",
        "    borrow =0\n",
        "    for i in range(0,n):\n",
        "        temp=A[i]-B[i]-borrow\n",
        "        if temp>=0:\n",
        "          LongArray.append(temp)\n",
        "          borrow=0\n",
        "        else:\n",
        "          LongArray.append(w+temp)\n",
        "          borrow=1\n",
        "    len(LongArray)\n",
        "    return LongArray"
      ],
      "execution_count": 10,
      "outputs": []
    },
    {
      "cell_type": "code",
      "metadata": {
        "id": "mK0q72D4ufYO"
      },
      "source": [
        "def LongMulOneDight(A,b):\n",
        "  carry=0\n",
        "  n=len(A)\n",
        "  LongArray= array('I',[])\n",
        "  for i in range (0,n):\n",
        "    temp= A[i]*b+carry\n",
        "    LongArray.append(num.mod(temp,w))\n",
        "    carry=int(temp//w)\n",
        "  LongArray.append(carry)\n",
        "  return LongArray"
      ],
      "execution_count": 11,
      "outputs": []
    },
    {
      "cell_type": "code",
      "metadata": {
        "id": "aUB-RC5obMRP"
      },
      "source": [
        "def LongMulOneDight2(A,b):\n",
        "  n=len(A)\n",
        "  LongArray= array('I',[])\n",
        "  for i in range (0,n):\n",
        "    temp= A[i]*b\n",
        "    LongArray.append(temp)\n",
        "  return LongArray"
      ],
      "execution_count": 12,
      "outputs": []
    },
    {
      "cell_type": "code",
      "metadata": {
        "id": "Qo73rd9q2RX4"
      },
      "source": [
        "def LongMull(A,B):\n",
        "  LongEqual(A,B)\n",
        "  la=len(A)\n",
        "  LongArray= array('I',[])\n",
        "  for i in range(0,la):\n",
        "    temp=LongMulOneDight(A,B[i])\n",
        "    for ii in range(0,i):\n",
        "      temp.insert(0,0)\n",
        "    LongArray=LongAdd(LongArray, temp)\n",
        "    short0(LongArray)\n",
        "  return LongArray\n"
      ],
      "execution_count": 13,
      "outputs": []
    },
    {
      "cell_type": "code",
      "metadata": {
        "id": "0xO0hrAH9I45"
      },
      "source": [
        "def LongSqare(A):\n",
        "  la=len(A)\n",
        "  LongArray= array('I',[])\n",
        "  temp1= array('I',[])\n",
        "  for i in range(0,la):\n",
        "    temp0=LongMulOneDight2(A,A[0])\n",
        "    for ii in range(0,i):\n",
        "      temp1.insert(len(temp1),0)\n",
        "    for ii in range(1,la-i):\n",
        "      temp1.append(temp0[ii])\n",
        "    for ii in range(0,i):\n",
        "      temp0.insert(0,temp1[i-1+(((i-1)-ii)*(la-1))])\n",
        "    for ii in range(0,i):\n",
        "      temp0.insert(0,0)\n",
        "    LongArray=LongAdd2(LongArray,temp0)\n",
        "    A.pop(0)\n",
        "    temp0=[]\n",
        "    \n",
        "  carry=0\n",
        "  LongArray2= array('I',[])\n",
        "  for i in range (0,len(LongArray)):\n",
        "    temp= LongArray[i]+carry\n",
        "    LongArray2.append(num.mod(temp,w))\n",
        "    carry=int(temp//w)\n",
        "\n",
        "  LongArray2.append(carry)\n",
        "  short0(LongArray2)\n",
        "  return LongArray2\n"
      ],
      "execution_count": 14,
      "outputs": []
    },
    {
      "cell_type": "code",
      "metadata": {
        "id": "-PmopLLGMCz8"
      },
      "source": [
        "def To2(A):\n",
        "  A=int(A)\n",
        "  LongArray= array('I',[])\n",
        "  for i in range (0,4):\n",
        "    LongArray.append(A%2)\n",
        "    A=A//2\n",
        "  return LongArray"
      ],
      "execution_count": 15,
      "outputs": []
    },
    {
      "cell_type": "code",
      "metadata": {
        "id": "42tcNYXt9ygr"
      },
      "source": [
        "def short0 (A):\n",
        "  la=len(A)\n",
        "  for i in range(0,la):\n",
        "    if A[la-i-1]==0:\n",
        "      A.pop(la-i-1)\n",
        "    else :\n",
        "      return A\n",
        "\n"
      ],
      "execution_count": 16,
      "outputs": []
    },
    {
      "cell_type": "code",
      "metadata": {
        "id": "fVROFcmU25hq"
      },
      "source": [
        "def LongTo2(A):\n",
        "  A2=array('I',[])\n",
        "  la=len(A)\n",
        "  for i in range(0,la):\n",
        "    temp=To2(A[i])\n",
        "    for ii in range(0, 4):\n",
        "      A2.append(temp[ii])\n",
        "  return A2"
      ],
      "execution_count": 17,
      "outputs": []
    },
    {
      "cell_type": "code",
      "metadata": {
        "id": "zKbwhi1XxoS6"
      },
      "source": [
        "def LongTo10(A):\n",
        "  A10=array('I',[])\n",
        "  A2=LongTo2(A)\n",
        "  la=len(A2)\n",
        "  temp=0\n",
        "  for i in range(0,la):\n",
        "    temp=temp+A2[i]*(2**i)\n",
        "  for i in range(0,len(str(temp))):\n",
        "    A10.append(int(str(temp)[len(str(temp))-i-1], base=10))\n",
        "  return A10"
      ],
      "execution_count": 18,
      "outputs": []
    },
    {
      "cell_type": "code",
      "metadata": {
        "id": "JWK87g6LCIS1"
      },
      "source": [
        "def LongPower(A,B):\n",
        "  B=LongTo2(B)\n",
        "  short0(B)\n",
        "  lb=len(B)\n",
        "  LongArray= array('I',[1])\n",
        "  for i in range(0, lb):\n",
        "    if B[lb-i-1]==1:\n",
        "      LongArray=LongSqare(LongArray)\n",
        "      LongArray=LongMull(LongArray,A)\n",
        "    if B[lb-i-1]!=1:\n",
        "      LongArray=LongSqare(LongArray)\n",
        "  return LongArray\n"
      ],
      "execution_count": 19,
      "outputs": []
    },
    {
      "cell_type": "code",
      "metadata": {
        "id": "eYe-503U_svo"
      },
      "source": [
        "def LongShiftbeatstohigh (A, b):\n",
        "    Temp= array('I',[])\n",
        "    for i in range (0, len(A)):\n",
        "      Temp.append(A[i])\n",
        "    for i in range(0,b):\n",
        "      Temp.insert(0,0)\n",
        "    return Temp"
      ],
      "execution_count": 20,
      "outputs": []
    },
    {
      "cell_type": "code",
      "source": [
        "def Long2To16(A):\n",
        "  A16=array('I',[])\n",
        "  while len(A) % 4 !=0:\n",
        "    A.append(0)\n",
        "  for i in range (0, len(A), 4):\n",
        "    if A[i]==0:\n",
        "      if A[i+1]==0:\n",
        "        if A[i+2]==0:\n",
        "          if A[i+3]==0:\n",
        "            A16.append(0)\n",
        "          else:\n",
        "             A16.append(8)\n",
        "        else:\n",
        "          if A[i+3]==0:\n",
        "            A16.append(4)\n",
        "          else:\n",
        "            A16.append(12)\n",
        "      else:\n",
        "        if A[i+2]==0:\n",
        "          if A[i+3]==0:\n",
        "            A16.append(2)\n",
        "          else:\n",
        "             A16.append(10)\n",
        "        else:\n",
        "          if A[i+3]==0:\n",
        "            A16.append(6)\n",
        "          else:\n",
        "            A16.append(14)      \n",
        "    else:\n",
        "      if A[i+1]==0:\n",
        "        if A[i+2]==0:\n",
        "          if A[i+3]==0:\n",
        "            A16.append(1)\n",
        "          else:\n",
        "             A16.append(9)\n",
        "        else:\n",
        "          if A[i+3]==0:\n",
        "            A16.append(5)\n",
        "          else:\n",
        "            A16.append(13)\n",
        "      else:\n",
        "        if A[i+2]==0:\n",
        "          if A[i+3]==0:\n",
        "            A16.append(3)\n",
        "          else:\n",
        "             A16.append(11)\n",
        "        else:\n",
        "          if A[i+3]==0:\n",
        "            A16.append(7)\n",
        "          else:\n",
        "            A16.append(15)     \n",
        "  return A16"
      ],
      "metadata": {
        "id": "vhld21f3MIyO"
      },
      "execution_count": 21,
      "outputs": []
    },
    {
      "cell_type": "code",
      "source": [
        "def LongSub2(A,B):\n",
        "  LongEqual(A,B)\n",
        "  n=len(A)\n",
        "  LongArray= array('I',[])\n",
        "  borrow =0\n",
        "  for i in range(0,n):\n",
        "      temp=A[i]-B[i]-borrow\n",
        "      if temp>=0:\n",
        "         LongArray.append(temp)\n",
        "         borrow=0\n",
        "      else:\n",
        "         LongArray.append(2+temp)\n",
        "         borrow=1\n",
        "  return LongArray"
      ],
      "metadata": {
        "id": "awbAqmqR9UYA"
      },
      "execution_count": 22,
      "outputs": []
    },
    {
      "cell_type": "code",
      "metadata": {
        "id": "c-YPEgwoBWWW"
      },
      "source": [
        "def LongDivModQ(A,B):\n",
        "  LongArray= array('I',[])\n",
        "  A=LongTo2(A)\n",
        "  B=LongTo2(B)\n",
        "  B=short0(B)\n",
        "  lb=len(B)\n",
        "  R=A\n",
        "  Q=0\n",
        "  while LongCmp(R,B)>=0:\n",
        "    B=short0(B)\n",
        "    R=short0(R)\n",
        "    lr=len(R)\n",
        "    C=LongShiftbeatstohigh(B,lr-lb)\n",
        "    if LongCmp(R,C)<0:\n",
        "      lr=lr-1\n",
        "      B=short0(B)\n",
        "      C=LongShiftbeatstohigh(B,lr-lb)\n",
        "    R=LongSub2(R,C)\n",
        "    Q=(Q+(2**(lr-lb)))\n",
        "  for i in range(0,len(str(Q))):\n",
        "    LongArray.append(int(str(Q)[len(str(Q))-i-1], base=16))\n",
        "  LongArray=Long10To16(LongArray)\n",
        "  return LongArray"
      ],
      "execution_count": 23,
      "outputs": []
    },
    {
      "cell_type": "code",
      "source": [
        "def LongDivModR(A,B):\n",
        "  A=LongTo2(A)\n",
        "  B=LongTo2(B)\n",
        "  B=short0(B)\n",
        "  lb=len(B)\n",
        "  R=A\n",
        "  while LongCmp(R,B)>=0:\n",
        "    B=short0(B)\n",
        "    R=short0(R)\n",
        "    lr=len(R)\n",
        "    C=LongShiftbeatstohigh(B,lr-lb)\n",
        "    if LongCmp(R,C)<0:\n",
        "      lr=lr-1\n",
        "      B=short0(B)\n",
        "      C=LongShiftbeatstohigh(B,lr-lb)\n",
        "    R=LongSub2(R,C)\n",
        "  R=Long2To16(R)\n",
        "  return R"
      ],
      "metadata": {
        "id": "EjilUaGPxM_4"
      },
      "execution_count": 68,
      "outputs": []
    },
    {
      "cell_type": "code",
      "source": [
        "def Long10To16(A):\n",
        "    LongArray= array('I',[])\n",
        "    X=str()\n",
        "    for i in range(0,len(A)):\n",
        "      X=X+str(A[len(A)-i-1])\n",
        "    X=hex(int(X))\n",
        "    for i in range(0,len(X)-2):\n",
        "      LongArray.append(int(X[len(X)-1-i], base=16))\n",
        "    return LongArray"
      ],
      "metadata": {
        "id": "LGQ37C5al2d0"
      },
      "execution_count": 24,
      "outputs": []
    },
    {
      "cell_type": "code",
      "metadata": {
        "colab": {
          "base_uri": "https://localhost:8080/"
        },
        "id": "g1qawk3NsaiV",
        "outputId": "637e5e90-6c44-4469-ec5e-bb204a17b23a"
      },
      "source": [
        "import time\n",
        "import random\n",
        "A=array('I',[])\n",
        "for i in range(0,1024):\n",
        "  A.append(random.randint(0,15))\n",
        "B=array('I',[])\n",
        "for i in range(0,1024):\n",
        "  B.append(random.randint(0,15))\n",
        "\n",
        "start_time=time.time()\n",
        "C=LongMull(A,B)\n",
        "print(\"--- %s seconds ---\" % (time.time()-start_time))\n",
        "Loutput(A)\n",
        "Loutput(B)\n",
        "Loutput(C)"
      ],
      "execution_count": 79,
      "outputs": [
        {
          "output_type": "stream",
          "name": "stdout",
          "text": [
            "--- 8.233936309814453 seconds ---\n",
            "C35361F8B8E11F2EB1F08F4DEBD6D7A9794103528943FDA005A79E7E094882BF829321922B1E35CE3E19FBB5A01C31A734B2A97C713DEE919978AE2C27C30338EED4AF2896865460202DD57DE277232606D442D7C6003F4CAF05D061B865DDA8E08CFD0792EDDA21F6680508E91C611921115C137A5D831521F2AB19340325CB4C3C9015138F384C1204FFE391873DC7A45BC0D9A884005D8B17C0EC654F9A3AFCAA067419781CA42DEC01667A9FF636D32210379B8D71B8F21A5C567E326370A25CF2C0B56DA35F29789F12B3B305606ECF54A090BEFDC67C4F5DEDA69C8AB6C4EF76F4DE1703A4BC201AA1127C8CA1F42D74F77739FD44B46F1DFE891106C5D058869EF685048EDD3A8E101F22C4DAB2CA5BA3EAB2ABE73B5FBE2CDAB88CEAA106D9291E102B24B9A2B96D4347217B60A20053DCBF3C1A54372376214BDCD683156B143C886999F20EA566D10413B00435BCD9A380F14F4EA2278FE92B841A118BA1047CA1CA19F6A5411D1B8F81AA87C664834FEB32AE682981F17BA4D1EDAFF3BB548CD9D73FF4752160B55B60561AD391BCBB2B6F4F2B48F256DB369B5AE3A4169E6FE3EEE9DBC6E74F9F4930583788B184813839AD13D218D78CEB606361D607CCE019CE6B76A98BFDAFF448D4D1E39CB6EBFD9870B6979B284D2070DE4A2428B867BDCEC85974E37857E51EFE85BA8DEC4D664C361593BD185BEF7201\n",
            "337BA89C09C9457166B02AE8F342FD28FE6684D501BE5A0BCB984905D28D69AB02BBB8E13D8BBD829FDC0B96725DC55E0AC8B2AD43C0ED316250C05EF9F6FEB8EE10BD72C9AC22EC8CD4A5ABBCEEA77832141BA713AED0A3AC722483292CEE699AA275FB693E347B6B586187A2EA1BDE03D039658E71A866128D6C878C243D1B6E0A24D66F3F1C7B6E9ED96C29ADC7F7D0088B141BABBCCA4AF142A9D1A3423FCAD56DE021EF31F18A422BB48DADE5D2BD3FE43ED7A0D6C634DB945B25180A291E93BF8CC79A6E32B6204399772016D84C08F9B8351071542D095B1CC8FFA1A29B5CF8DA61E431CD11AB24F37BC7C0A01810DCF43C513963DAFE4BD3AB36639150F416179DD68B4F5866087721E92E1968AB26E6B359A50DC8715744CA4B04C8E41216E2E0D47DC4EE3ED0DE32C8F42F5FEF9E3774E177C6BB8AAF95B21C51DAC3D37F95DC4135CAC3F5120F518E19626875028E6ED554D6F765AE10BA57DB214958229F9196410985716610CD43758AD9C0F2199363325AEC57ED5E011FE3777E194BA1C392D68A87BCE777ADC5B292B3EE62ABAF67998B381A8E0E72057BE8910B3F9DE61A63BBBBAFC2D9348A1D76D98C541E92A19F18B23CE2D0441D9B48EE0943E57CE1649AB6B1ADD5046E93563348350F828FFA03212D8B1DE194A100AEB7680C861E440D2F6ABF36DDF88F30D55958A51FDB310F4186AAD83397A4DD\n",
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n"
          ]
        }
      ]
    }
  ]
}