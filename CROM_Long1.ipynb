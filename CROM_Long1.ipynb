{
  "nbformat": 4,
  "nbformat_minor": 0,
  "metadata": {
    "colab": {
      "name": "CROM_Long1.ipynb",
      "provenance": [],
      "collapsed_sections": [],
      "authorship_tag": "ABX9TyMjp0AhkCAb9FIyHLJDzpm4",
      "include_colab_link": true
    },
    "kernelspec": {
      "name": "python3",
      "display_name": "Python 3"
    },
    "language_info": {
      "name": "python"
    }
  },
  "cells": [
    {
      "cell_type": "markdown",
      "metadata": {
        "id": "view-in-github",
        "colab_type": "text"
      },
      "source": [
        "<a href=\"https://colab.research.google.com/github/OlegP564/Papusev_Fi93/blob/main/CROM_Long1.ipynb\" target=\"_parent\"><img src=\"https://colab.research.google.com/assets/colab-badge.svg\" alt=\"Open In Colab\"/></a>"
      ]
    },
    {
      "cell_type": "markdown",
      "metadata": {
        "id": "XukD1_NoEz37"
      },
      "source": [
        "2.1 представлення числа за основою В"
      ]
    },
    {
      "cell_type": "code",
      "metadata": {
        "id": "EZro6HYsDqWg",
        "colab": {
          "base_uri": "https://localhost:8080/"
        },
        "outputId": "6134be1e-e3d6-4a2f-dc7b-a90ce9e35bfc"
      },
      "source": [
        "import numpy as num\n",
        "from array import *\n",
        "w=16\n",
        "B=2**w\n",
        "n =int (2048/w)\n",
        "print(n)\n"
      ],
      "execution_count": 2,
      "outputs": [
        {
          "output_type": "stream",
          "name": "stdout",
          "text": [
            "128\n"
          ]
        }
      ]
    },
    {
      "cell_type": "code",
      "metadata": {
        "id": "tLeZUL2PZtVc"
      },
      "source": [
        "def Linput():\n",
        "  A = input()\n",
        "  LongArray= array('I',[])\n",
        "  for i in range(0,len(A)):\n",
        "    LongArray.append(int(A[len(A)-i-1], base=16))\n",
        "  return LongArray"
      ],
      "execution_count": 3,
      "outputs": []
    },
    {
      "cell_type": "code",
      "metadata": {
        "id": "s7yS6g379tG2"
      },
      "source": [
        "def Loutput(LongArray):\n",
        "  X=str()\n",
        "  l=len(LongArray)\n",
        "  for i in range(0,l):\n",
        "    if LongArray[l-i-1]<10:\n",
        "      X=X+str(LongArray[l-i-1])\n",
        "    if LongArray[l-i-1]==10:\n",
        "      X=X+str('A')\n",
        "    if LongArray[l-i-1]==11:\n",
        "      X=X+str('B')\n",
        "    if LongArray[l-i-1]==12:\n",
        "      X=X+str('C')\n",
        "    if LongArray[l-i-1]==13:\n",
        "      X=X+str('D')  \n",
        "    if LongArray[l-i-1]==14:\n",
        "      X=X+str('E')  \n",
        "    if LongArray[l-i-1]==15:\n",
        "      X=X+str('F')\n",
        "  print(X)\n"
      ],
      "execution_count": 4,
      "outputs": []
    },
    {
      "cell_type": "code",
      "metadata": {
        "id": "25VAKMQdRC7i"
      },
      "source": [
        "def LongEqual(A,B):\n",
        "  la=len(A)\n",
        "  lb=len(B)\n",
        "  if la<lb :\n",
        "    for i in range(la+1,lb+1):\n",
        "      A.append(0)\n",
        "  if lb<la :\n",
        "    for i in range(lb+1,la+1):\n",
        "      B.append(0)    \n",
        "  return A,B\n"
      ],
      "execution_count": 5,
      "outputs": []
    },
    {
      "cell_type": "code",
      "metadata": {
        "id": "qx6_reT6jWUI"
      },
      "source": [
        "def LongAdd(A,B):\n",
        "  LongEqual(A,B)\n",
        "  l=len(A)\n",
        "  carry =0\n",
        "  LongArray= array('I',[])\n",
        "  for i in range(0,l):\n",
        "    temp= A[i]+B[i]+carry\n",
        "    c=num.mod(temp, 2**w)\n",
        "    LongArray.append(num.mod(c,w))\n",
        "    carry= int(temp//w)\n",
        "  if carry==1:\n",
        "    LongArray.append(1)\n",
        "  return LongArray"
      ],
      "execution_count": 6,
      "outputs": []
    },
    {
      "cell_type": "code",
      "metadata": {
        "id": "YaQri6NZlv69"
      },
      "source": [
        "def LongAdd2(A,B):\n",
        "  LongEqual(A,B)\n",
        "  l=len(A)\n",
        "  LongArray= array('I',[])\n",
        "  for i in range(0,l):\n",
        "    temp= A[i]+B[i]\n",
        "    LongArray.append(temp)\n",
        "  return LongArray"
      ],
      "execution_count": 7,
      "outputs": []
    },
    {
      "cell_type": "code",
      "metadata": {
        "id": "Zqi3XyGGNwXo"
      },
      "source": [
        "def LongCmp(A,B):\n",
        "  Temp1=A\n",
        "  Temp2=B\n",
        "  LongEqual(Temp1,Temp2)\n",
        "  la=len(Temp1)-1\n",
        "  while A[la]== B[la]:\n",
        "    la=la-1\n",
        "    if la==-1:\n",
        "      return 0\n",
        "  else:\n",
        "    if Temp1[la]>Temp2[la]:\n",
        "      return 1\n",
        "    else:\n",
        "       return -1\n",
        "  return r"
      ],
      "execution_count": 8,
      "outputs": []
    },
    {
      "cell_type": "code",
      "source": [
        "def LongSub (A,B):\n",
        "  LongEqual(A,B)\n",
        "  n=len(A)\n",
        "  LongArray= array('I',[])\n",
        "  borrow =0\n",
        "  for i in range(0,n):\n",
        "      temp=A[i]-B[i]-borrow\n",
        "      if temp>=0:\n",
        "         LongArray.append(temp)\n",
        "         borrow=0\n",
        "      else:\n",
        "         LongArray.append(w+temp)\n",
        "         borrow=1\n",
        "  return LongArray"
      ],
      "metadata": {
        "id": "m34-HcXfIKz5"
      },
      "execution_count": 9,
      "outputs": []
    },
    {
      "cell_type": "code",
      "metadata": {
        "id": "7BRj3fqFMgXG"
      },
      "source": [
        "def LongSub_Module (A,B):\n",
        "  LongEqual(A,B)\n",
        "  r=LongCmp(A,B)\n",
        "  n=len(A)\n",
        "  if r==-1:\n",
        "    C=A\n",
        "    A=B\n",
        "    B=C\n",
        "    r=1\n",
        "  if r==0:\n",
        "    return array('I',[0])\n",
        "  if r==1:\n",
        "    LongArray= array('I',[])\n",
        "    borrow =0\n",
        "    for i in range(0,n):\n",
        "        temp=A[i]-B[i]-borrow\n",
        "        if temp>=0:\n",
        "          LongArray.append(temp)\n",
        "          borrow=0\n",
        "        else:\n",
        "          LongArray.append(w+temp)\n",
        "          borrow=1\n",
        "    len(LongArray)\n",
        "    return LongArray"
      ],
      "execution_count": 10,
      "outputs": []
    },
    {
      "cell_type": "code",
      "metadata": {
        "id": "mK0q72D4ufYO"
      },
      "source": [
        "def LongMulOneDight(A,b):\n",
        "  carry=0\n",
        "  n=len(A)\n",
        "  LongArray= array('I',[])\n",
        "  for i in range (0,n):\n",
        "    temp= A[i]*b+carry\n",
        "    LongArray.append(num.mod(temp,w))\n",
        "    carry=int(temp//w)\n",
        "  LongArray.append(carry)\n",
        "  return LongArray"
      ],
      "execution_count": 11,
      "outputs": []
    },
    {
      "cell_type": "code",
      "metadata": {
        "id": "aUB-RC5obMRP"
      },
      "source": [
        "def LongMulOneDight2(A,b):\n",
        "  n=len(A)\n",
        "  LongArray= array('I',[])\n",
        "  for i in range (0,n):\n",
        "    temp= A[i]*b\n",
        "    LongArray.append(temp)\n",
        "  return LongArray"
      ],
      "execution_count": 12,
      "outputs": []
    },
    {
      "cell_type": "code",
      "metadata": {
        "id": "Qo73rd9q2RX4"
      },
      "source": [
        "def LongMull(A,B):\n",
        "  LongEqual(A,B)\n",
        "  la=len(A)\n",
        "  LongArray= array('I',[])\n",
        "  for i in range(0,la):\n",
        "    temp=LongMulOneDight(A,B[i])\n",
        "    for ii in range(0,i):\n",
        "      temp.insert(0,0)\n",
        "    LongArray=LongAdd(LongArray, temp)\n",
        "    short0(LongArray)\n",
        "  return LongArray\n"
      ],
      "execution_count": 13,
      "outputs": []
    },
    {
      "cell_type": "code",
      "metadata": {
        "id": "0xO0hrAH9I45"
      },
      "source": [
        "def LongSqare(A):\n",
        "  la=len(A)\n",
        "  LongArray= array('I',[])\n",
        "  temp1= array('I',[])\n",
        "  for i in range(0,la):\n",
        "    temp0=LongMulOneDight2(A,A[0])\n",
        "    for ii in range(0,i):\n",
        "      temp1.insert(len(temp1),0)\n",
        "    for ii in range(1,la-i):\n",
        "      temp1.append(temp0[ii])\n",
        "    for ii in range(0,i):\n",
        "      temp0.insert(0,temp1[i-1+(((i-1)-ii)*(la-1))])\n",
        "    for ii in range(0,i):\n",
        "      temp0.insert(0,0)\n",
        "    LongArray=LongAdd2(LongArray,temp0)\n",
        "    A.pop(0)\n",
        "    temp0=[]\n",
        "    \n",
        "  carry=0\n",
        "  LongArray2= array('I',[])\n",
        "  for i in range (0,len(LongArray)):\n",
        "    temp= LongArray[i]+carry\n",
        "    LongArray2.append(num.mod(temp,w))\n",
        "    carry=int(temp//w)\n",
        "\n",
        "  LongArray2.append(carry)\n",
        "  short0(LongArray2)\n",
        "  return LongArray2\n"
      ],
      "execution_count": 14,
      "outputs": []
    },
    {
      "cell_type": "code",
      "metadata": {
        "id": "-PmopLLGMCz8"
      },
      "source": [
        "def To2(A):\n",
        "  A=int(A)\n",
        "  LongArray= array('I',[])\n",
        "  for i in range (0,4):\n",
        "    LongArray.append(A%2)\n",
        "    A=A//2\n",
        "  return LongArray"
      ],
      "execution_count": 15,
      "outputs": []
    },
    {
      "cell_type": "code",
      "metadata": {
        "id": "42tcNYXt9ygr"
      },
      "source": [
        "def short0 (A):\n",
        "  la=len(A)\n",
        "  for i in range(0,la):\n",
        "    if A[la-i-1]==0:\n",
        "      A.pop(la-i-1)\n",
        "    else :\n",
        "      return A\n",
        "\n"
      ],
      "execution_count": 16,
      "outputs": []
    },
    {
      "cell_type": "code",
      "metadata": {
        "id": "fVROFcmU25hq"
      },
      "source": [
        "def LongTo2(A):\n",
        "  A2=array('I',[])\n",
        "  la=len(A)\n",
        "  for i in range(0,la):\n",
        "    temp=To2(A[i])\n",
        "    for ii in range(0, 4):\n",
        "      A2.append(temp[ii])\n",
        "  return A2"
      ],
      "execution_count": 17,
      "outputs": []
    },
    {
      "cell_type": "code",
      "metadata": {
        "id": "zKbwhi1XxoS6"
      },
      "source": [
        "def LongTo10(A):\n",
        "  A10=array('I',[])\n",
        "  A2=LongTo2(A)\n",
        "  la=len(A2)\n",
        "  temp=0\n",
        "  for i in range(0,la):\n",
        "    temp=temp+A2[i]*(2**i)\n",
        "  for i in range(0,len(str(temp))):\n",
        "    A10.append(int(str(temp)[len(str(temp))-i-1], base=10))\n",
        "  return A10"
      ],
      "execution_count": 18,
      "outputs": []
    },
    {
      "cell_type": "code",
      "metadata": {
        "id": "JWK87g6LCIS1"
      },
      "source": [
        "def LongPower(A,B):\n",
        "  B=LongTo2(B)\n",
        "  short0(B)\n",
        "  lb=len(B)\n",
        "  LongArray= array('I',[1])\n",
        "  for i in range(0, lb):\n",
        "    if B[lb-i-1]==1:\n",
        "      LongArray=LongSqare(LongArray)\n",
        "      LongArray=LongMull(LongArray,A)\n",
        "    if B[lb-i-1]!=1:\n",
        "      LongArray=LongSqare(LongArray)\n",
        "  return LongArray\n"
      ],
      "execution_count": 19,
      "outputs": []
    },
    {
      "cell_type": "code",
      "metadata": {
        "id": "eYe-503U_svo"
      },
      "source": [
        "def LongShiftbeatstohigh (A, b):\n",
        "    Temp= array('I',[])\n",
        "    for i in range (0, len(A)):\n",
        "      Temp.append(A[i])\n",
        "    for i in range(0,b):\n",
        "      Temp.insert(0,0)\n",
        "    return Temp"
      ],
      "execution_count": 20,
      "outputs": []
    },
    {
      "cell_type": "code",
      "source": [
        "def Long2To16(A):\n",
        "  A16=array('I',[])\n",
        "  while len(A) % 4 !=0:\n",
        "    A.append(0)\n",
        "  for i in range (0, len(A), 4):\n",
        "    if A[i]==0:\n",
        "      if A[i+1]==0:\n",
        "        if A[i+2]==0:\n",
        "          if A[i+3]==0:\n",
        "            A16.append(0)\n",
        "          else:\n",
        "             A16.append(8)\n",
        "        else:\n",
        "          if A[i+3]==0:\n",
        "            A16.append(4)\n",
        "          else:\n",
        "            A16.append(12)\n",
        "      else:\n",
        "        if A[i+2]==0:\n",
        "          if A[i+3]==0:\n",
        "            A16.append(2)\n",
        "          else:\n",
        "             A16.append(10)\n",
        "        else:\n",
        "          if A[i+3]==0:\n",
        "            A16.append(6)\n",
        "          else:\n",
        "            A16.append(14)      \n",
        "    else:\n",
        "      if A[i+1]==0:\n",
        "        if A[i+2]==0:\n",
        "          if A[i+3]==0:\n",
        "            A16.append(1)\n",
        "          else:\n",
        "             A16.append(9)\n",
        "        else:\n",
        "          if A[i+3]==0:\n",
        "            A16.append(5)\n",
        "          else:\n",
        "            A16.append(13)\n",
        "      else:\n",
        "        if A[i+2]==0:\n",
        "          if A[i+3]==0:\n",
        "            A16.append(3)\n",
        "          else:\n",
        "             A16.append(11)\n",
        "        else:\n",
        "          if A[i+3]==0:\n",
        "            A16.append(7)\n",
        "          else:\n",
        "            A16.append(15)     \n",
        "  return A16"
      ],
      "metadata": {
        "id": "vhld21f3MIyO"
      },
      "execution_count": 21,
      "outputs": []
    },
    {
      "cell_type": "code",
      "source": [
        "def LongSub2(A,B):\n",
        "  LongEqual(A,B)\n",
        "  n=len(A)\n",
        "  LongArray= array('I',[])\n",
        "  borrow =0\n",
        "  for i in range(0,n):\n",
        "      temp=A[i]-B[i]-borrow\n",
        "      if temp>=0:\n",
        "         LongArray.append(temp)\n",
        "         borrow=0\n",
        "      else:\n",
        "         LongArray.append(2+temp)\n",
        "         borrow=1\n",
        "  return LongArray"
      ],
      "metadata": {
        "id": "awbAqmqR9UYA"
      },
      "execution_count": 22,
      "outputs": []
    },
    {
      "cell_type": "code",
      "metadata": {
        "id": "c-YPEgwoBWWW"
      },
      "source": [
        "def LongDivModQ(A,B):\n",
        "  LongArray= array('I',[])\n",
        "  A=LongTo2(A)\n",
        "  B=LongTo2(B)\n",
        "  B=short0(B)\n",
        "  lb=len(B)\n",
        "  R=A\n",
        "  Q=0\n",
        "  while LongCmp(R,B)>=0:\n",
        "    B=short0(B)\n",
        "    R=short0(R)\n",
        "    lr=len(R)\n",
        "    C=LongShiftbeatstohigh(B,lr-lb)\n",
        "    if LongCmp(R,C)<0:\n",
        "      lr=lr-1\n",
        "      B=short0(B)\n",
        "      C=LongShiftbeatstohigh(B,lr-lb)\n",
        "    R=LongSub2(R,C)\n",
        "    Q=(Q+(2**(lr-lb)))\n",
        "  for i in range(0,len(str(Q))):\n",
        "    LongArray.append(int(str(Q)[len(str(Q))-i-1], base=16))\n",
        "  LongArray=Long10To16(LongArray)\n",
        "  return LongArray"
      ],
      "execution_count": 23,
      "outputs": []
    },
    {
      "cell_type": "code",
      "source": [
        "def LongDivModR(A,B):\n",
        "  A=LongTo2(A)\n",
        "  B=LongTo2(B)\n",
        "  B=short0(B)\n",
        "  lb=len(B)\n",
        "  R=A\n",
        "  while LongCmp(R,B)>=0:\n",
        "    B=short0(B)\n",
        "    R=short0(R)\n",
        "    lr=len(R)\n",
        "    C=LongShiftbeatstohigh(B,lr-lb)\n",
        "    if LongCmp(R,C)<0:\n",
        "      lr=lr-1\n",
        "      B=short0(B)\n",
        "      C=LongShiftbeatstohigh(B,lr-lb)\n",
        "    R=LongSub2(R,C)\n",
        "  R=Long2To16(R)\n",
        "  return R"
      ],
      "metadata": {
        "id": "EjilUaGPxM_4"
      },
      "execution_count": 68,
      "outputs": []
    },
    {
      "cell_type": "code",
      "source": [
        "def Long10To16(A):\n",
        "    LongArray= array('I',[])\n",
        "    X=str()\n",
        "    for i in range(0,len(A)):\n",
        "      X=X+str(A[len(A)-i-1])\n",
        "    X=hex(int(X))\n",
        "    for i in range(0,len(X)-2):\n",
        "      LongArray.append(int(X[len(X)-1-i], base=16))\n",
        "    return LongArray"
      ],
      "metadata": {
        "id": "LGQ37C5al2d0"
      },
      "execution_count": 24,
      "outputs": []
    },
    {
      "cell_type": "code",
      "metadata": {
        "colab": {
          "base_uri": "https://localhost:8080/"
        },
        "id": "g1qawk3NsaiV",
        "outputId": "5662733a-ed12-4d99-acdd-a81adfa6a7f4"
      },
      "source": [
        "import time\n",
        "import random\n",
        "A=array('I',[])\n",
        "for i in range(0,1024):\n",
        "  A.append(random.randint(0,15))\n",
        "B=array('I',[])\n",
        "for i in range(0,1024):\n",
        "  B.append(random.randint(0,15))\n",
        "\n",
        "start_time=time.time()\n",
        "C=LongMull(A,B)\n",
        "print(\"--- %s seconds ---\" % (time.time()-start_time))\n",
        "Loutput(A)\n",
        "Loutput(B)\n",
        "Loutput(C)"
      ],
      "execution_count": 78,
      "outputs": [
        {
          "output_type": "stream",
          "name": "stdout",
          "text": [
            "3340E61CE70224FE109AA852D618FFBA53E9779C33B7782F73E55944AF6D54B75B7B537E2C57ADC8534A38433960F92DAF604D4F45FCD205280C63684FD3A711\n",
            "12\n",
            "--- 9.804623365402222 seconds ---\n",
            "00000000000000000000000000000000000000000000000000000000000000000000000000000000000000000000000000000000000000000000000000000000000000000000000000000000000000000000000000000000000000000000000000000000000000000000000000000000000000000000000000000000000000000000000000000000000000000000000000000000000000000000000000000000000000000000000000000000000000000000000000000000000000000000000000000000000000000000000000000000000000000000000000000000000000000000000000000000000000000000000000000000000000000000000000000000000000000000000000000000000000000000000000000000000000000000000000000000000000000000000000000000000000000000000000000000000000000000000000000000000000000000000000000000000000000000000000000000000000000000000000000000000000000000000000000000000000000000000000000000000000000000000000000000000000000000000000000000000000000000000000000000000000000000000000000000000000000000000000003340E61CE70224FE109AA852D618FFBA53E9779C33B7782F73E55944AF6D54B75B7B537E2C57ADC8534A38433960F92DAF604D4F45FCD205280C63684FD3A711\n",
            "12\n",
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n"
          ]
        }
      ]
    }
  ]
}