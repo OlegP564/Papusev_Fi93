{
  "nbformat": 4,
  "nbformat_minor": 0,
  "metadata": {
    "colab": {
      "name": "CROM_Long1.ipynb",
      "provenance": [],
      "authorship_tag": "ABX9TyPb6EDfp5cdNgcnrJjeCBZ1",
      "include_colab_link": true
    },
    "kernelspec": {
      "name": "python3",
      "display_name": "Python 3"
    },
    "language_info": {
      "name": "python"
    }
  },
  "cells": [
    {
      "cell_type": "markdown",
      "metadata": {
        "id": "view-in-github",
        "colab_type": "text"
      },
      "source": [
        "<a href=\"https://colab.research.google.com/github/OlegP564/Papusev_Fi93/blob/main/CROM_Long1.ipynb\" target=\"_parent\"><img src=\"https://colab.research.google.com/assets/colab-badge.svg\" alt=\"Open In Colab\"/></a>"
      ]
    },
    {
      "cell_type": "markdown",
      "metadata": {
        "id": "XukD1_NoEz37"
      },
      "source": [
        "2.1 представлення числа за основою В"
      ]
    },
    {
      "cell_type": "code",
      "metadata": {
        "colab": {
          "base_uri": "https://localhost:8080/"
        },
        "id": "EZro6HYsDqWg",
        "outputId": "436767e1-72a9-4ce4-f69a-c6798b95ed6c"
      },
      "source": [
        "import numpy as num\n",
        "from array import *\n",
        "w=16\n",
        "B=2**w\n",
        "n =int (2048/w)\n",
        "print(n)\n"
      ],
      "execution_count": 143,
      "outputs": [
        {
          "output_type": "stream",
          "name": "stdout",
          "text": [
            "128\n"
          ]
        }
      ]
    },
    {
      "cell_type": "code",
      "metadata": {
        "id": "tLeZUL2PZtVc"
      },
      "source": [
        "def Linput():\n",
        "  A = input()\n",
        "  if len(A) < 128:\n",
        "      A=A+str(0)*(128-len(A))\n",
        "  LongArray= array('I',[])\n",
        "  for i in range(0,n):\n",
        "    LongArray.append(int(A[i], base=16))\n",
        "  return LongArray"
      ],
      "execution_count": 144,
      "outputs": []
    },
    {
      "cell_type": "code",
      "metadata": {
        "id": "s7yS6g379tG2"
      },
      "source": [
        "def Loutput(LongArray):\n",
        "  X=str()\n",
        "  l=len(LongArray)\n",
        "  for i in range(0,l):\n",
        "    if LongArray[i]<10:\n",
        "      X=X+str(LongArray[i])\n",
        "    if LongArray[i]==10:\n",
        "      X=X+str('A')\n",
        "    if LongArray[i]==11:\n",
        "      X=X+str('B')\n",
        "    if LongArray[i]==12:\n",
        "      X=X+str('C')\n",
        "    if LongArray[i]==13:\n",
        "      X=X+str('D')  \n",
        "    if LongArray[i]==14:\n",
        "      X=X+str('E')  \n",
        "    if LongArray[i]==15:\n",
        "      X=X+str('F')\n",
        "  print(X)\n"
      ],
      "execution_count": 145,
      "outputs": []
    },
    {
      "cell_type": "code",
      "metadata": {
        "id": "25VAKMQdRC7i"
      },
      "source": [
        "def LongEqual(A,B):\n",
        "  la=len(A)\n",
        "  lb=len(B)\n",
        "  if la<lb :\n",
        "    for i in range(la+1,lb+1):\n",
        "      A.append(0)\n",
        "  if lb<la :\n",
        "    for i in range(lb+1,la+1):\n",
        "      B.append(0)    \n",
        "  return A,B\n"
      ],
      "execution_count": 146,
      "outputs": []
    },
    {
      "cell_type": "code",
      "metadata": {
        "id": "qx6_reT6jWUI"
      },
      "source": [
        "def LongAdd(A,B):\n",
        "  LongEqual(A,B)\n",
        "  l=len(A)\n",
        "  carry =0\n",
        "  LongArray= array('I',[])\n",
        "  for i in range(0,l):\n",
        "    temp= A[i]+B[i]+carry\n",
        "    c=num.mod(temp, 2**w)\n",
        "    LongArray.append(num.mod(c,w))\n",
        "    carry= int(temp//w)\n",
        "  if carry==1:\n",
        "    LongArray.append(1)\n",
        "  return LongArray"
      ],
      "execution_count": 147,
      "outputs": []
    },
    {
      "cell_type": "code",
      "metadata": {
        "id": "YaQri6NZlv69"
      },
      "source": [
        "def LongAdd2(A,B):\n",
        "  LongEqual(A,B)\n",
        "  l=len(A)\n",
        "  LongArray= array('I',[])\n",
        "  for i in range(0,l):\n",
        "    temp= A[i]+B[i]\n",
        "    LongArray.append(temp)\n",
        "  return LongArray"
      ],
      "execution_count": 148,
      "outputs": []
    },
    {
      "cell_type": "code",
      "metadata": {
        "id": "Zqi3XyGGNwXo"
      },
      "source": [
        "def LongCmp(A,B):\n",
        "  LongEqual(A,B)\n",
        "  la=len(A)-1\n",
        "  while A[la]== B[la]:\n",
        "    la=la-1\n",
        "    if la==-1:\n",
        "      return 0\n",
        "  else:\n",
        "    if A[la]>B[la]:\n",
        "      return 1\n",
        "    else:\n",
        "       return -1\n",
        "\n",
        "  return r"
      ],
      "execution_count": 149,
      "outputs": []
    },
    {
      "cell_type": "code",
      "metadata": {
        "id": "7BRj3fqFMgXG"
      },
      "source": [
        "def LongSub_Module (A,B):\n",
        "  LongEqual(A,B)\n",
        "  r=LongCmp(A,B)\n",
        "  n=len(A)\n",
        "  if r==-1:\n",
        "    C=A\n",
        "    A=B\n",
        "    B=C\n",
        "    r=1\n",
        "  if r==0:\n",
        "    return array('I',[0])\n",
        "  if r==1:\n",
        "    LongArray= array('I',[])\n",
        "    borrow =0\n",
        "    for i in range(0,n):\n",
        "        temp=A[i]-B[i]-borrow\n",
        "        if temp>=0:\n",
        "          LongArray.append(temp)\n",
        "          borrow=0\n",
        "        else:\n",
        "          LongArray.append(w+temp)\n",
        "          borrow=1\n",
        "    len(LongArray)\n",
        "    return LongArray"
      ],
      "execution_count": 150,
      "outputs": []
    },
    {
      "cell_type": "code",
      "metadata": {
        "id": "mK0q72D4ufYO"
      },
      "source": [
        "def LongMulOneDight(A,b):\n",
        "  carry=0\n",
        "  n=len(A)\n",
        "  LongArray= array('I',[])\n",
        "  for i in range (0,n):\n",
        "    temp= A[i]*b+carry\n",
        "    LongArray.append(num.mod(temp,w))\n",
        "    carry=int(temp//w)\n",
        "  LongArray.append(carry)\n",
        "  return LongArray"
      ],
      "execution_count": 151,
      "outputs": []
    },
    {
      "cell_type": "code",
      "metadata": {
        "id": "aUB-RC5obMRP"
      },
      "source": [
        "def LongMulOneDight2(A,b):\n",
        "  n=len(A)\n",
        "  LongArray= array('I',[])\n",
        "  for i in range (0,n):\n",
        "    temp= A[i]*b\n",
        "    LongArray.append(temp)\n",
        "  return LongArray"
      ],
      "execution_count": 152,
      "outputs": []
    },
    {
      "cell_type": "code",
      "metadata": {
        "id": "Qo73rd9q2RX4"
      },
      "source": [
        "def LongMull(A,B):\n",
        "  LongEqual(A,B)\n",
        "  la=len(A)\n",
        "  LongArray= array('I',[])\n",
        "  for i in range(0,la):\n",
        "    temp=LongMulOneDight(A,B[i])\n",
        "    for ii in range(0,i):\n",
        "      temp.insert(0,0)\n",
        "    LongArray=LongAdd(LongArray, temp)\n",
        "  return LongArray\n"
      ],
      "execution_count": 153,
      "outputs": []
    },
    {
      "cell_type": "code",
      "metadata": {
        "id": "0xO0hrAH9I45"
      },
      "source": [
        "def LongSqare(A):\n",
        "  la=len(A)\n",
        "  LongArray= array('I',[])\n",
        "  temp1= array('I',[])\n",
        "  for i in range(0,la):\n",
        "    temp0=LongMulOneDight2(A,A[0])\n",
        "    for ii in range(0,i):\n",
        "      temp1.insert(len(temp1),0)\n",
        "    for ii in range(1,la-i):\n",
        "      temp1.append(temp0[ii])\n",
        "    for ii in range(0,i):\n",
        "      temp0.insert(0,temp1[i-1+(((i-1)-ii)*(la-1))])\n",
        "    for ii in range(0,i):\n",
        "      temp0.insert(0,0)\n",
        "    LongArray=LongAdd2(LongArray,temp0)\n",
        "    A.pop(0)\n",
        "    temp0=[]\n",
        "    \n",
        "  carry=0\n",
        "  LongArray2= array('I',[])\n",
        "  for i in range (0,len(LongArray)):\n",
        "    temp= LongArray[i]+carry\n",
        "    LongArray2.append(num.mod(temp,w))\n",
        "    carry=int(temp//w)\n",
        "\n",
        "  LongArray2.append(carry)\n",
        "  return LongArray2\n"
      ],
      "execution_count": 168,
      "outputs": []
    },
    {
      "cell_type": "code",
      "metadata": {
        "id": "zKbwhi1XxoS6"
      },
      "source": [
        "def LongTo10(A):\n",
        "  A10=array('I',[])\n",
        "  la=len(A)\n",
        "  carry=0\n",
        "  for i in range(0,la):\n",
        "    if (A[i]+carry)<10 :\n",
        "      A10.append(A[i]+carry)\n",
        "      carry=0\n",
        "    if (A[i]+carry)>=10:\n",
        "      A10.append(num.mod(A[i]+carry,10))\n",
        "      carry=1\n",
        "  A10.append(carry)\n",
        "  return A10"
      ],
      "execution_count": 155,
      "outputs": []
    },
    {
      "cell_type": "code",
      "metadata": {
        "id": "-PmopLLGMCz8"
      },
      "source": [
        "def To2(A):\n",
        "  A=int(A)\n",
        "  LongArray= array('I',[])\n",
        "  for i in range (0,4):\n",
        "    LongArray.append(A%2)\n",
        "    A=A//2\n",
        "  return LongArray"
      ],
      "execution_count": 156,
      "outputs": []
    },
    {
      "cell_type": "code",
      "metadata": {
        "id": "fVROFcmU25hq"
      },
      "source": [
        "def LongTo2(A):\n",
        "  A2=array('I',[])\n",
        "  la=len(A)\n",
        "  for i in range(0,la):\n",
        "    temp=To2(A[i])\n",
        "    for ii in range(0, 4):\n",
        "      A2.append(temp[ii])\n",
        "  return A2"
      ],
      "execution_count": 157,
      "outputs": []
    },
    {
      "cell_type": "code",
      "metadata": {
        "id": "42tcNYXt9ygr"
      },
      "source": [
        "def short0 (A):\n",
        "  la=len(A)\n",
        "  for i in range(0,la):\n",
        "    if A[la-i-1]==0:\n",
        "      A.pop(la-i-1)\n",
        "    else :\n",
        "      return A\n",
        "\n"
      ],
      "execution_count": 158,
      "outputs": []
    },
    {
      "cell_type": "code",
      "metadata": {
        "id": "JWK87g6LCIS1"
      },
      "source": [
        "def LongPower(A,B):\n",
        "  B=LongTo2(B)\n",
        "  short0(B)\n",
        "  lb=len(B)\n",
        "  LongArray= array('I',[1])\n",
        "  for i in range(0, lb):\n",
        "    if B[lb-i-1]==1:\n",
        "      LongArray=LongSqare(LongArray)\n",
        "      LongArray=LongMull(LongArray,A)\n",
        "    if B[lb-i-1]!=1:\n",
        "      LongArray=LongSqare(LongArray)\n",
        "  return LongArray\n"
      ],
      "execution_count": 159,
      "outputs": []
    },
    {
      "cell_type": "code",
      "metadata": {
        "id": "eYe-503U_svo"
      },
      "source": [
        "def LongShiftbeatstohigh (A, b):\n",
        "  for i in range(0,b):\n",
        "    A.insert(0,0)\n",
        "  return A"
      ],
      "execution_count": 160,
      "outputs": []
    },
    {
      "cell_type": "code",
      "metadata": {
        "id": "c-YPEgwoBWWW"
      },
      "source": [
        "def LongDivMod(A,B):\n",
        "  LongTo2(A)\n",
        "  LongTo2(B)\n",
        "  lb=len(B)\n",
        "  R=A\n",
        "  Q=0\n",
        "  while R>=B:\n",
        "    lr=len(R)\n",
        "    C=LongShiftbeatstohigh(B,lr-lb)\n",
        "    if R<C:\n",
        "      lr=lr-1\n",
        "      C=LongShiftbeatstohigh(B,lr-lb)\n",
        "    R=LongSub_Module(R,C)\n",
        "    Q=Q+(2**(lr-lb))\n",
        "  return Q,R"
      ],
      "execution_count": 161,
      "outputs": []
    },
    {
      "cell_type": "code",
      "metadata": {
        "colab": {
          "base_uri": "https://localhost:8080/"
        },
        "id": "TEJ5OsolcNY-",
        "outputId": "66f88dad-b305-4386-a54e-7c0c38e60593"
      },
      "source": [
        "A=Linput()\n",
        "B=Linput()\n",
        "C=Linput()\n",
        "X1=LongAdd(A,B)\n",
        "X1=LongMull(X1,C)\n",
        "X21=LongMull(A,C)\n",
        "X22=LongMull(B,C)\n",
        "X2=LongAdd(X21,X22)\n",
        "\n",
        "Loutput(X1)\n",
        "Loutput(X2)\n",
        "print(LongCmp(X1,X2))\n",
        "\n"
      ],
      "execution_count": 163,
      "outputs": [
        {
          "output_type": "stream",
          "name": "stdout",
          "text": [
            "1\n",
            "1\n",
            "1\n",
            "2000000000000000000000000000000000000000000000000000000000000000000000000000000000000000000000000000000000000000000000000000000000000000000000000000000000000000000000000000000000000000000000000000000000000000000000000000000000000000000000000000000000000000\n",
            "2000000000000000000000000000000000000000000000000000000000000000000000000000000000000000000000000000000000000000000000000000000000000000000000000000000000000000000000000000000000000000000000000000000000000000000000000000000000000000000000000000000000000000\n",
            "0\n"
          ]
        }
      ]
    },
    {
      "cell_type": "code",
      "metadata": {
        "colab": {
          "base_uri": "https://localhost:8080/"
        },
        "id": "-EK-HCK3iCcj",
        "outputId": "48b957ca-daf1-4f42-92f3-425accffa0f3"
      },
      "source": [
        "A=Linput()\n",
        "X1=[]\n",
        "n=110\n",
        "B=[14,6]\n",
        "for i in range(0,n):\n",
        "  X1=LongAdd(X1,A)\n",
        "X2=LongMull(B,A)\n",
        "Loutput(X1)\n",
        "Loutput(X2)\n",
        "print(LongCmp(X1,X2))\n"
      ],
      "execution_count": 164,
      "outputs": [
        {
          "output_type": "stream",
          "name": "stdout",
          "text": [
            "1\n",
            "E6000000000000000000000000000000000000000000000000000000000000000000000000000000000000000000000000000000000000000000000000000000\n",
            "E600000000000000000000000000000000000000000000000000000000000000000000000000000000000000000000000000000000000000000000000000000000000000000000000000000000000000000000000000000000000000000000000000000000000000000000000000000000000000000000000000000000000000\n",
            "0\n"
          ]
        }
      ]
    },
    {
      "cell_type": "code",
      "metadata": {
        "colab": {
          "base_uri": "https://localhost:8080/"
        },
        "id": "QeIsC-pFkeXJ",
        "outputId": "252aff87-226f-40a4-8618-aa12ad8f8045"
      },
      "source": [
        "A=Linput()\n",
        "B=Linput()\n",
        "X11=LongAdd(A,B)\n",
        "X23=LongMull(A,B)\n",
        "X21=LongSqare(A)\n",
        "X22=LongSqare(B)\n",
        "X24=LongAdd(X23,X23)\n",
        "X2=LongAdd(X21,X22)\n",
        "X2=LongAdd(X2,X24)\n",
        "X1=LongSqare(X11)\n",
        "Loutput(X1)\n",
        "Loutput(X2)\n",
        "print(LongCmp(X1,X2))"
      ],
      "execution_count": 169,
      "outputs": [
        {
          "output_type": "stream",
          "name": "stdout",
          "text": [
            "123\n",
            "321\n",
            "0123210000000000000000000000000000000000000000000000000000000000000000000000000000000000000000000000000000000000000000000000000000000000000000000000000000000000000000000000000000000000000000000000000000000000000000000000\n",
            "0123210000000000000000000000000000000000000000000000000000000000000000000000000000000000000000000000000000000000000000000000000000000000000000000000000000000000000000000000000000000000000000000000000000000000000000000000\n",
            "0\n"
          ]
        }
      ]
    },
    {
      "cell_type": "code",
      "metadata": {
        "colab": {
          "base_uri": "https://localhost:8080/",
          "height": 395
        },
        "id": "g1qawk3NsaiV",
        "outputId": "13a1d3ab-a3e1-468f-8736-aec0d55cc679"
      },
      "source": [
        "import time\n",
        "import random\n",
        "A=array('I',[])\n",
        "for i in range(0,64):\n",
        "  A.append(random.randint(0,15))\n",
        "B=array('I',[])\n",
        "for i in range(0,2):\n",
        "  B.append(random.randint(0,15))\n",
        "start_time=time.time()\n",
        "C=LongPower(A,B)\n",
        "print(\"--- %s seconds ---\" % (time.time()-start_time))\n",
        "print(C)"
      ],
      "execution_count": 205,
      "outputs": [
        {
          "output_type": "error",
          "ename": "KeyboardInterrupt",
          "evalue": "ignored",
          "traceback": [
            "\u001b[0;31m---------------------------------------------------------------------------\u001b[0m",
            "\u001b[0;31mKeyboardInterrupt\u001b[0m                         Traceback (most recent call last)",
            "\u001b[0;32m<ipython-input-205-88309e784a7a>\u001b[0m in \u001b[0;36m<module>\u001b[0;34m()\u001b[0m\n\u001b[1;32m      8\u001b[0m   \u001b[0mB\u001b[0m\u001b[0;34m.\u001b[0m\u001b[0mappend\u001b[0m\u001b[0;34m(\u001b[0m\u001b[0mrandom\u001b[0m\u001b[0;34m.\u001b[0m\u001b[0mrandint\u001b[0m\u001b[0;34m(\u001b[0m\u001b[0;36m0\u001b[0m\u001b[0;34m,\u001b[0m\u001b[0;36m15\u001b[0m\u001b[0;34m)\u001b[0m\u001b[0;34m)\u001b[0m\u001b[0;34m\u001b[0m\u001b[0;34m\u001b[0m\u001b[0m\n\u001b[1;32m      9\u001b[0m \u001b[0mstart_time\u001b[0m\u001b[0;34m=\u001b[0m\u001b[0mtime\u001b[0m\u001b[0;34m.\u001b[0m\u001b[0mtime\u001b[0m\u001b[0;34m(\u001b[0m\u001b[0;34m)\u001b[0m\u001b[0;34m\u001b[0m\u001b[0;34m\u001b[0m\u001b[0m\n\u001b[0;32m---> 10\u001b[0;31m \u001b[0mC\u001b[0m\u001b[0;34m=\u001b[0m\u001b[0mLongPower\u001b[0m\u001b[0;34m(\u001b[0m\u001b[0mA\u001b[0m\u001b[0;34m,\u001b[0m\u001b[0mB\u001b[0m\u001b[0;34m)\u001b[0m\u001b[0;34m\u001b[0m\u001b[0;34m\u001b[0m\u001b[0m\n\u001b[0m\u001b[1;32m     11\u001b[0m \u001b[0mprint\u001b[0m\u001b[0;34m(\u001b[0m\u001b[0;34m\"--- %s seconds ---\"\u001b[0m \u001b[0;34m%\u001b[0m \u001b[0;34m(\u001b[0m\u001b[0mtime\u001b[0m\u001b[0;34m.\u001b[0m\u001b[0mtime\u001b[0m\u001b[0;34m(\u001b[0m\u001b[0;34m)\u001b[0m\u001b[0;34m-\u001b[0m\u001b[0mstart_time\u001b[0m\u001b[0;34m)\u001b[0m\u001b[0;34m)\u001b[0m\u001b[0;34m\u001b[0m\u001b[0;34m\u001b[0m\u001b[0m\n\u001b[1;32m     12\u001b[0m \u001b[0mprint\u001b[0m\u001b[0;34m(\u001b[0m\u001b[0mC\u001b[0m\u001b[0;34m)\u001b[0m\u001b[0;34m\u001b[0m\u001b[0;34m\u001b[0m\u001b[0m\n",
            "\u001b[0;32m<ipython-input-159-4142c201c674>\u001b[0m in \u001b[0;36mLongPower\u001b[0;34m(A, B)\u001b[0m\n\u001b[1;32m      7\u001b[0m     \u001b[0;32mif\u001b[0m \u001b[0mB\u001b[0m\u001b[0;34m[\u001b[0m\u001b[0mlb\u001b[0m\u001b[0;34m-\u001b[0m\u001b[0mi\u001b[0m\u001b[0;34m-\u001b[0m\u001b[0;36m1\u001b[0m\u001b[0;34m]\u001b[0m\u001b[0;34m==\u001b[0m\u001b[0;36m1\u001b[0m\u001b[0;34m:\u001b[0m\u001b[0;34m\u001b[0m\u001b[0;34m\u001b[0m\u001b[0m\n\u001b[1;32m      8\u001b[0m       \u001b[0mLongArray\u001b[0m\u001b[0;34m=\u001b[0m\u001b[0mLongSqare\u001b[0m\u001b[0;34m(\u001b[0m\u001b[0mLongArray\u001b[0m\u001b[0;34m)\u001b[0m\u001b[0;34m\u001b[0m\u001b[0;34m\u001b[0m\u001b[0m\n\u001b[0;32m----> 9\u001b[0;31m       \u001b[0mLongArray\u001b[0m\u001b[0;34m=\u001b[0m\u001b[0mLongMull\u001b[0m\u001b[0;34m(\u001b[0m\u001b[0mLongArray\u001b[0m\u001b[0;34m,\u001b[0m\u001b[0mA\u001b[0m\u001b[0;34m)\u001b[0m\u001b[0;34m\u001b[0m\u001b[0;34m\u001b[0m\u001b[0m\n\u001b[0m\u001b[1;32m     10\u001b[0m     \u001b[0;32mif\u001b[0m \u001b[0mB\u001b[0m\u001b[0;34m[\u001b[0m\u001b[0mlb\u001b[0m\u001b[0;34m-\u001b[0m\u001b[0mi\u001b[0m\u001b[0;34m-\u001b[0m\u001b[0;36m1\u001b[0m\u001b[0;34m]\u001b[0m\u001b[0;34m!=\u001b[0m\u001b[0;36m1\u001b[0m\u001b[0;34m:\u001b[0m\u001b[0;34m\u001b[0m\u001b[0;34m\u001b[0m\u001b[0m\n\u001b[1;32m     11\u001b[0m       \u001b[0mLongArray\u001b[0m\u001b[0;34m=\u001b[0m\u001b[0mLongSqare\u001b[0m\u001b[0;34m(\u001b[0m\u001b[0mLongArray\u001b[0m\u001b[0;34m)\u001b[0m\u001b[0;34m\u001b[0m\u001b[0;34m\u001b[0m\u001b[0m\n",
            "\u001b[0;32m<ipython-input-153-ab2f0baefa9d>\u001b[0m in \u001b[0;36mLongMull\u001b[0;34m(A, B)\u001b[0m\n\u001b[1;32m      6\u001b[0m     \u001b[0mtemp\u001b[0m\u001b[0;34m=\u001b[0m\u001b[0mLongMulOneDight\u001b[0m\u001b[0;34m(\u001b[0m\u001b[0mA\u001b[0m\u001b[0;34m,\u001b[0m\u001b[0mB\u001b[0m\u001b[0;34m[\u001b[0m\u001b[0mi\u001b[0m\u001b[0;34m]\u001b[0m\u001b[0;34m)\u001b[0m\u001b[0;34m\u001b[0m\u001b[0;34m\u001b[0m\u001b[0m\n\u001b[1;32m      7\u001b[0m     \u001b[0;32mfor\u001b[0m \u001b[0mii\u001b[0m \u001b[0;32min\u001b[0m \u001b[0mrange\u001b[0m\u001b[0;34m(\u001b[0m\u001b[0;36m0\u001b[0m\u001b[0;34m,\u001b[0m\u001b[0mi\u001b[0m\u001b[0;34m)\u001b[0m\u001b[0;34m:\u001b[0m\u001b[0;34m\u001b[0m\u001b[0;34m\u001b[0m\u001b[0m\n\u001b[0;32m----> 8\u001b[0;31m       \u001b[0mtemp\u001b[0m\u001b[0;34m.\u001b[0m\u001b[0minsert\u001b[0m\u001b[0;34m(\u001b[0m\u001b[0;36m0\u001b[0m\u001b[0;34m,\u001b[0m\u001b[0;36m0\u001b[0m\u001b[0;34m)\u001b[0m\u001b[0;34m\u001b[0m\u001b[0;34m\u001b[0m\u001b[0m\n\u001b[0m\u001b[1;32m      9\u001b[0m     \u001b[0mLongArray\u001b[0m\u001b[0;34m=\u001b[0m\u001b[0mLongAdd\u001b[0m\u001b[0;34m(\u001b[0m\u001b[0mLongArray\u001b[0m\u001b[0;34m,\u001b[0m \u001b[0mtemp\u001b[0m\u001b[0;34m)\u001b[0m\u001b[0;34m\u001b[0m\u001b[0;34m\u001b[0m\u001b[0m\n\u001b[1;32m     10\u001b[0m   \u001b[0;32mreturn\u001b[0m \u001b[0mLongArray\u001b[0m\u001b[0;34m\u001b[0m\u001b[0;34m\u001b[0m\u001b[0m\n",
            "\u001b[0;31mKeyboardInterrupt\u001b[0m: "
          ]
        }
      ]
    }
  ]
}