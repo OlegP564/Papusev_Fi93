{
  "nbformat": 4,
  "nbformat_minor": 0,
  "metadata": {
    "colab": {
      "name": "Cром4.ipynb",
      "provenance": [],
      "authorship_tag": "ABX9TyO3MnPX4pLM8jkAr518evBz",
      "include_colab_link": true
    },
    "kernelspec": {
      "name": "python3",
      "display_name": "Python 3"
    },
    "language_info": {
      "name": "python"
    }
  },
  "cells": [
    {
      "cell_type": "markdown",
      "metadata": {
        "id": "view-in-github",
        "colab_type": "text"
      },
      "source": [
        "<a href=\"https://colab.research.google.com/github/OlegP564/Papusev_Fi93/blob/main/C%D1%80%D0%BE%D0%BC4.ipynb\" target=\"_parent\"><img src=\"https://colab.research.google.com/assets/colab-badge.svg\" alt=\"Open In Colab\"/></a>"
      ]
    },
    {
      "cell_type": "code",
      "execution_count": 80,
      "metadata": {
        "id": "W4Sxj-4Li0WU"
      },
      "outputs": [],
      "source": [
        "import numpy as num\n",
        "from array import *\n",
        "m=431\n"
      ]
    },
    {
      "cell_type": "code",
      "source": [
        "def Ginput():\n",
        "  A = input()\n",
        "  GArray= array('I',[])\n",
        "  for i in range(0,len(A)):\n",
        "    GArray.append(int(A[i]))\n",
        "  return GArray"
      ],
      "metadata": {
        "id": "xu6RGUsURMVO"
      },
      "execution_count": 81,
      "outputs": []
    },
    {
      "cell_type": "code",
      "source": [
        "def Goutput(LongArray):\n",
        "  X=str()\n",
        "  l=len(LongArray)\n",
        "  for i in range(0,l):\n",
        "    X=X+str(LongArray[i])\n",
        "  print(X)"
      ],
      "metadata": {
        "id": "ZPg3nzOmRPge"
      },
      "execution_count": 82,
      "outputs": []
    },
    {
      "cell_type": "code",
      "source": [
        "def LongEqual(A,B):\n",
        "  la=len(A)\n",
        "  lb=len(B)\n",
        "  if la<lb :\n",
        "    for i in range(la+1,lb+1):\n",
        "      A.append(0)\n",
        "  if lb<la :\n",
        "    for i in range(lb+1,la+1):\n",
        "      B.append(0)    \n"
      ],
      "metadata": {
        "id": "EFEwWQegWeO2"
      },
      "execution_count": 129,
      "outputs": []
    },
    {
      "cell_type": "code",
      "source": [
        "def GAdd(A,B):\n",
        "  LongEqual(A,B)\n",
        "  l=len(A)\n",
        "  LongArray= array('I',[])\n",
        "  for i in range(0,l):\n",
        "    temp= A[i]+B[i]\n",
        "    LongArray.append(num.mod(temp,2))\n",
        "  return LongArray\n"
      ],
      "metadata": {
        "id": "jL1NxasxRTpJ"
      },
      "execution_count": 84,
      "outputs": []
    },
    {
      "cell_type": "code",
      "source": [
        "def G1():\n",
        "    X= array('I',[])\n",
        "    for i in range(0,m):\n",
        "      X.append(1)\n",
        "    return X"
      ],
      "metadata": {
        "id": "A8M_ZC7ZRlVC"
      },
      "execution_count": 85,
      "outputs": []
    },
    {
      "cell_type": "code",
      "source": [
        "def G0():\n",
        "    X= array('I',[])\n",
        "    for i in range(0,m):\n",
        "      X.append(0)\n",
        "    return X"
      ],
      "metadata": {
        "id": "ZYEoC_LcSEUh"
      },
      "execution_count": 86,
      "outputs": []
    },
    {
      "cell_type": "code",
      "source": [
        "def Shiftbitsleft(A):\n",
        "    X= array('I',[])\n",
        "    for i in range(0,len(A)-1):\n",
        "      X.append(int(A[i+1]))\n",
        "    X.append(int(A[0]))\n",
        "    return X"
      ],
      "metadata": {
        "id": "n4u35qztLeSR"
      },
      "execution_count": 87,
      "outputs": []
    },
    {
      "cell_type": "code",
      "source": [
        "def Matrix(m):\n",
        "    X= array('I',[])\n",
        "    for i in range(0, m): \n",
        "      for j in range(0, m):\n",
        "        if (num.mod((2**i)+(2**j),2*m+1)==1) or (num.mod((2**i)-(2**j),2*m+1)==1) or (num.mod(-(2**i)+(2**j),2*m+1)==1) or (num.mod(-(2**i)-(2**j),2*m+1)==1):\n",
        "          X.append(1)\n",
        "        else:\n",
        "          X.append(0)\n",
        "    return(X)"
      ],
      "metadata": {
        "id": "r0ixItTKA_q8"
      },
      "execution_count": 88,
      "outputs": []
    },
    {
      "cell_type": "code",
      "source": [
        "def GMull (A,B,X):\n",
        "\n",
        "  z= array('I',[])\n",
        "  temp01=A\n",
        "  temp02=B\n",
        "  for i in range(0, m):\n",
        "    temp0=[]\n",
        "    sum=0\n",
        "    for s in range(0, m):\n",
        "      for j in range (0, m):\n",
        "        if temp01[j]==1 and X[s+j*m]==1:\n",
        "          sum=sum+1\n",
        "      temp0.append(num.mod(sum,2))\n",
        "      sum=0\n",
        "    temp1=[]\n",
        "    for s in range (0, 1):\n",
        "      for j in range(0, m):\n",
        "        if temp0[j]==1 and temp02[j]==1:\n",
        "          sum=sum+1\n",
        "      temp1.append(num.mod(sum,2))   \n",
        "    z.append(temp1[0])\n",
        "    temp01=Shiftbitsleft(temp01)\n",
        "    temp02=Shiftbitsleft(temp02)\n",
        "  return(z)"
      ],
      "metadata": {
        "id": "Mc8nghfp_kIP"
      },
      "execution_count": 134,
      "outputs": []
    },
    {
      "cell_type": "code",
      "source": [
        "def GSqare(A):\n",
        "    X= array('I',[])\n",
        "    X.append(int(A[len(A)-1]))\n",
        "    for i in range(0,len(A)-1):\n",
        "      X.append(int(A[i]))\n",
        "    return X"
      ],
      "metadata": {
        "id": "hTWC2DIASPqs"
      },
      "execution_count": 90,
      "outputs": []
    },
    {
      "cell_type": "code",
      "source": [
        "def GTrase(A):\n",
        "  X=int(0)\n",
        "  for i in range(0,len(A)):\n",
        "    X=X+A[i]\n",
        "  X=num.mod(X,2)\n",
        "  return [X]"
      ],
      "metadata": {
        "id": "fCy6WIG3TsPd"
      },
      "execution_count": 91,
      "outputs": []
    },
    {
      "cell_type": "code",
      "source": [
        "def Long2To10(A):\n",
        "  X=str()\n",
        "  la=len(A)\n",
        "  temp=0\n",
        "  for i in range(0,la):\n",
        "    temp=temp+A[i]*(2**i)\n",
        "  for i in range(0,len(str(temp))):\n",
        "    X=X+str((int(str(temp)[len(str(temp))-i-1], base=10)))\n",
        "  return X"
      ],
      "metadata": {
        "id": "YdlwVH14_LN9"
      },
      "execution_count": 92,
      "outputs": []
    },
    {
      "cell_type": "code",
      "source": [
        "def Long10To2(A):\n",
        "    LongArray= array('I',[])\n",
        "    X=bin(int(A))\n",
        "    for i in range(0,len(X)-2):\n",
        "      LongArray.append(int(X[len(X)-1-i]))\n",
        "    return LongArray\n"
      ],
      "metadata": {
        "id": "OOd2ABC7_MLm"
      },
      "execution_count": 93,
      "outputs": []
    },
    {
      "cell_type": "code",
      "source": [
        "def GPower(A,B):\n",
        "  X=Matrix(m)\n",
        "  lb=len(B)\n",
        "  LongArray= array('I',[1])\n",
        "  LongEqual(LongArray,G0())\n",
        "  for i in range(0, lb):\n",
        "    if B[i]==1:\n",
        "      LongArray=GSqare(LongArray)\n",
        "      LongArray=GMull(LongArray,A,X)\n",
        "    else :\n",
        "      LongArray=GSqare(LongArray)\n",
        "  return LongArray"
      ],
      "metadata": {
        "id": "lEzPdIso_E0p"
      },
      "execution_count": 137,
      "outputs": []
    },
    {
      "cell_type": "code",
      "source": [
        "def GObern(A):\n",
        "  Temp=(2**m)-2\n",
        "  Temp=Long10To2(Temp)\n",
        "  LongEqual(Temp, G0())\n",
        "  return(GPower(A,Temp))"
      ],
      "metadata": {
        "id": "G4kNPFLt--YE"
      },
      "execution_count": 143,
      "outputs": []
    },
    {
      "cell_type": "code",
      "source": [
        "def short0 (A):\n",
        "  la=len(A)\n",
        "  for i in range(0,la):\n",
        "    if A[la-i-1]==0:\n",
        "      A.pop(la-i-1)\n",
        "    else :\n",
        "      return A\n"
      ],
      "metadata": {
        "id": "KQtszm9fXOSv"
      },
      "execution_count": 97,
      "outputs": []
    },
    {
      "cell_type": "code",
      "source": [
        "import time\n",
        "import random\n",
        "A=array('I',[])\n",
        "for i in range(0,431):\n",
        "  A.append(random.randint(0,1))\n",
        "B=array('I',[])\n",
        "for i in range(0,431):\n",
        "  B.append(random.randint(0,1))\n",
        "C=array('I',[])\n",
        "for i in range(0,50):\n",
        "  C.append(random.randint(0,1))\n",
        "LongEqual(C,G0())\n",
        "Goutput(A)\n",
        "Goutput(B)\n",
        "Goutput(C)\n",
        "\n",
        "start_time=time.time()\n",
        "Goutput(G0())\n",
        "print(\"--- %s seconds ---\" % (time.time()-start_time))\n",
        "\n",
        "start_time=time.time()\n",
        "Goutput(G1())\n",
        "print(\"--- %s seconds ---\" % (time.time()-start_time))\n",
        "\n",
        "start_time=time.time()\n",
        "Goutput(GAdd(A,B))\n",
        "print(\"--- %s seconds ---\" % (time.time()-start_time))\n",
        "\n",
        "start_time=time.time()\n",
        "Goutput(GMull(A,B,Matrix(m)))\n",
        "print(\"--- %s seconds ---\" % (time.time()-start_time))\n",
        "\n",
        "\n",
        "\n",
        "start_time=time.time()\n",
        "Goutput(GSqare(A))\n",
        "print(\"--- %s seconds ---\" % (time.time()-start_time))\n",
        "\n",
        "start_time=time.time()\n",
        "Goutput(GTrase(A))\n",
        "print(\"--- %s seconds ---\" % (time.time()-start_time))\n"
      ],
      "metadata": {
        "colab": {
          "base_uri": "https://localhost:8080/"
        },
        "id": "dmKlaSYmVPyk",
        "outputId": "41e0988a-e1f7-495b-bab1-53d1992df633"
      },
      "execution_count": 146,
      "outputs": [
        {
          "output_type": "stream",
          "name": "stdout",
          "text": [
            "01110000101011110011111111100100110111001110100100000101101110110000011000110101001110101110000000001100010111001001100000011111001011010100101001110010001101001100000110110101101000011000101101100110111001100001000110110111110110110101011101001110001010101101000101111101110010010101011000010001110111101000000101000000010000011111010111000001111010111011010100000000011000000110111000000001001000001100011100100100001001101111010\n",
            "11011111110110100101011110101011010110110010000011110001010010011101100111010111010111100100001011011001000100000100010101000111111010111111110111000000110101001101010010110001110111011010110010001011101111011001111110001101110000000001111100100101111000010110111110111011001111010100010001110100100100101010111111100100011101000011100010110110110111000100001000010000110110001101010111111110111110011000100011010110101000011010110\n",
            "10110000010110110010101000101100011001101000001001000000000000000000000000000000000000000000000000000000000000000000000000000000000000000000000000000000000000000000000000000000000000000000000000000000000000000000000000000000000000000000000000000000000000000000000000000000000000000000000000000000000000000000000000000000000000000000000000000000000000000000000000000000000000000000000000000000000000000000000000000000000000000000000\n",
            "10000011000010100110011110100110010100011110011111110001110111011010111001100100111000000101110100001101001011001000000001011110111001101010010111000111111001101010010010011010000011011010010111011010000100100110011100111110101000110101001101111000000011000100001111011111010011001010001000101010101001110111100000100111011101011100111010100111101110011100000101110100000001001100100110100110111100010000101110101111001111011011001\n",
            "01011100010001111110011111000111011100001011111111001010010010001001101011100111101101000100100101111100110111000001011101001001000011000011100110001001101011000010001100110010111110010101101100111000111111010000110011101100111000111000001101101111010100111011101010000011011000110001000111100101101001111111010000000110010001100100111011011001000101001110010001010000001000111111011111001110000101011100001011011000110111001010110\n",
            "00000000000000000000000000000000000000000000000000000000000000000000000000000000000000000000000000000000000000000000000000000000000000000000000000000000000000000000000000000000000000000000000000000000000000000000000000000000000000000000000000000000000000000000000000000000000000000000000000000000000000000000000000000000000000000000000000000000000000000000000000000000000000000000000000000000000000000000000000000000000000000000000\n",
            "--- 0.0006325244903564453 seconds ---\n",
            "11111111111111111111111111111111111111111111111111111111111111111111111111111111111111111111111111111111111111111111111111111111111111111111111111111111111111111111111111111111111111111111111111111111111111111111111111111111111111111111111111111111111111111111111111111111111111111111111111111111111111111111111111111111111111111111111111111111111111111111111111111111111111111111111111111111111111111111111111111111111111111111111\n",
            "--- 0.0004131793975830078 seconds ---\n",
            "11011111010011011000000001100001001000010101100000111011100101010011010010000011010101000001010001110001111100001001011100010111111010101001110001001110010010101000011110101000111101001111111011100010111011110110101111010010010000001101000000010111010111111111100101011100001011111011001111001111000000001000110000100001001100111000000001111110101011010010010100100100001001110011111001101000111001001100100101110111111000010001111\n",
            "--- 0.0017347335815429688 seconds ---\n",
            "01011100001001010010101001110111001000010011011001000100100100111100010111101100111100101110011110101110000101011000110001000110111111100101010110111001001101011111000011101010111001011000100001010101110110000011001010011011110110011001111010010100000100000100000001010001110000101101100111101010011101001000010000110000110000001101011001011111001111000001110000110100100010010100100101000111111101001001110010000010100111111011011\n",
            "--- 15.296660423278809 seconds ---\n",
            "11000001100001010011001111010011001010001111001111111000111011101101011100110010011100000010111010000110100101100100000000101111011100110101001011100011111100110101001001001101000001101101001011101101000010010011001110011111010100011010100110111100000001100010000111101111101001100101000100010101010100111011110000010011101110101110011101010011110111001110000010111010000000100110010011010011011110001000010111010111100111101101100\n",
            "--- 0.000339508056640625 seconds ---\n",
            "1\n",
            "--- 0.000316619873046875 seconds ---\n"
          ]
        }
      ]
    }
  ]
}