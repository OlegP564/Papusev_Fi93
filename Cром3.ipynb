{
  "nbformat": 4,
  "nbformat_minor": 0,
  "metadata": {
    "colab": {
      "name": "Cром3.ipynb",
      "provenance": [],
      "authorship_tag": "ABX9TyO4EfurjSDrV0MlaegWGw/i",
      "include_colab_link": true
    },
    "kernelspec": {
      "name": "python3",
      "display_name": "Python 3"
    },
    "language_info": {
      "name": "python"
    }
  },
  "cells": [
    {
      "cell_type": "markdown",
      "metadata": {
        "id": "view-in-github",
        "colab_type": "text"
      },
      "source": [
        "<a href=\"https://colab.research.google.com/github/OlegP564/Papusev_Fi93/blob/main/C%D1%80%D0%BE%D0%BC3.ipynb\" target=\"_parent\"><img src=\"https://colab.research.google.com/assets/colab-badge.svg\" alt=\"Open In Colab\"/></a>"
      ]
    },
    {
      "cell_type": "code",
      "execution_count": null,
      "metadata": {
        "colab": {
          "base_uri": "https://localhost:8080/"
        },
        "id": "O2vW6AhnTa1Y",
        "outputId": "902a5cf4-c96e-4a2a-de34-e03a804ffeb5"
      },
      "outputs": [
        {
          "output_type": "stream",
          "name": "stdout",
          "text": [
            "432\n"
          ]
        }
      ],
      "source": [
        "import numpy as num\n",
        "from array import *\n",
        "m=431\n",
        "p= array('I',[])\n",
        "\n",
        "p.append(int(1))\n",
        "p.append(int(1))\n",
        "p.append(int(0))\n",
        "p.append(int(1))\n",
        "p.append(int(0))\n",
        "p.append(int(1))\n",
        "for i in range(0,425):\n",
        "   p.append(int(0))\n",
        "p.append(int(1))\n",
        "print (len(p))\n"
      ]
    },
    {
      "cell_type": "code",
      "source": [
        "def Ginput():\n",
        "  A = input()\n",
        "  GArray= array('I',[])\n",
        "  for i in range(0,len(A)):\n",
        "    GArray.append(int(A[len(A)-i-1]))\n",
        "  return GArray"
      ],
      "metadata": {
        "id": "iaWtOccNVmTR"
      },
      "execution_count": null,
      "outputs": []
    },
    {
      "cell_type": "code",
      "source": [
        "def Goutput(LongArray):\n",
        "  X=str()\n",
        "  l=len(LongArray)\n",
        "  for i in range(0,l):\n",
        "    X=X+str(LongArray[l-i-1])\n",
        "  print(X)"
      ],
      "metadata": {
        "id": "fVRVk3CAWYHz"
      },
      "execution_count": null,
      "outputs": []
    },
    {
      "cell_type": "code",
      "source": [
        "def G0():\n",
        "    X= array('I',[])\n",
        "    for i in range(0,m):\n",
        "      X.append(0)\n",
        "    return X"
      ],
      "metadata": {
        "id": "TPos-74cWzmf"
      },
      "execution_count": null,
      "outputs": []
    },
    {
      "cell_type": "code",
      "source": [
        "def G1():\n",
        "    X= array('I',[1])\n",
        "    for i in range(0,m-1):\n",
        "      X.append(0)\n",
        "    return X"
      ],
      "metadata": {
        "id": "M2pq3wgwYOC3"
      },
      "execution_count": null,
      "outputs": []
    },
    {
      "cell_type": "code",
      "source": [
        "def GAdd(A,B):\n",
        "  LongEqual(A,B)\n",
        "  l=len(A)\n",
        "  LongArray= array('I',[])\n",
        "  for i in range(0,l):\n",
        "    temp= A[i]+B[i]\n",
        "    LongArray.append(num.mod(temp,2))\n",
        "  return LongArray\n"
      ],
      "metadata": {
        "id": "c8ovWvEIYoge"
      },
      "execution_count": null,
      "outputs": []
    },
    {
      "cell_type": "code",
      "source": [
        "def LongShiftbeatstohigh (A, b):\n",
        "    Temp= array('I',[])\n",
        "    for i in range (0, len(A)):\n",
        "      Temp.append(A[i])\n",
        "    for i in range(0,b):\n",
        "      Temp.insert(0,0)\n",
        "    return Temp"
      ],
      "metadata": {
        "id": "SjE0ha92eq9B"
      },
      "execution_count": null,
      "outputs": []
    },
    {
      "cell_type": "code",
      "source": [
        "def LongCmp(A,B):\n",
        "  Temp1=short0(A)\n",
        "  Temp2=short0(B)\n",
        "  if len(Temp1)<len(Temp2):\n",
        "    return -1\n",
        "  else:\n",
        "    return 1\n"
      ],
      "metadata": {
        "id": "xN1zdYVZgzx2"
      },
      "execution_count": null,
      "outputs": []
    },
    {
      "cell_type": "code",
      "source": [
        "def GMOD (A, B):\n",
        "  B=short0(B)\n",
        "  lb=len(B)\n",
        "  R=A\n",
        "  while LongCmp(R,B)>=0:\n",
        "    B=short0(B)\n",
        "    R=short0(R)\n",
        "    lr=len(R)\n",
        "    C=LongShiftbeatstohigh(B,lr-lb)\n",
        "    if LongCmp(R,C)<0:\n",
        "      lr=lr-1\n",
        "      B=short0(B)\n",
        "      C=LongShiftbeatstohigh(B,lr-lb)\n",
        "    R=GAdd(R,C)\n",
        "  R=short0(R)\n",
        "  if(len(R)==432):\n",
        "    R=GAdd(R,C)\n",
        "  return R\n",
        "\n"
      ],
      "metadata": {
        "id": "_UoD3E26gdAa"
      },
      "execution_count": null,
      "outputs": []
    },
    {
      "cell_type": "code",
      "source": [
        "def short0 (A):\n",
        "  la=len(A)\n",
        "  for i in range(0,la):\n",
        "    if A[la-i-1]==0:\n",
        "      A.pop(la-i-1)\n",
        "    else :\n",
        "      return A\n"
      ],
      "metadata": {
        "id": "DWcILk0jAY6q"
      },
      "execution_count": null,
      "outputs": []
    },
    {
      "cell_type": "code",
      "source": [
        "def GMull(A,B):\n",
        "  LongArray= array('I',[])\n",
        "  for i in range(0,len(A)):\n",
        "    if (A[i]==1):\n",
        "      LongArray=GAdd(LongArray,LongShiftbeatstohigh(B,i))\n",
        "  LongArray=GMOD(LongArray,p)\n",
        "  return short0(LongArray)\n"
      ],
      "metadata": {
        "id": "go798716cJle"
      },
      "execution_count": null,
      "outputs": []
    },
    {
      "cell_type": "code",
      "source": [
        "def GSqare(A):\n",
        "    LongArray= array('I',[])\n",
        "    for i in range (0, len(A)):\n",
        "      LongArray.append(A[i])\n",
        "      LongArray.append(0)\n",
        "    LongArray.pop(len(LongArray)-1)\n",
        "    LongArray=GMOD(LongArray,p)\n",
        "    return short0(LongArray)"
      ],
      "metadata": {
        "id": "jryjUtoakUl4"
      },
      "execution_count": null,
      "outputs": []
    },
    {
      "cell_type": "code",
      "source": [
        "def GPower(A,b):\n",
        "  short0(A)\n",
        "  temp=Long10To2(b)\n",
        "  temp=short0(temp)\n",
        "  lb=len(temp)\n",
        "  LongArray= array('I',[1])\n",
        "  for i in range(0, lb):\n",
        "    if temp[lb-i-1]==1:\n",
        "      LongArray=GSqare(LongArray)\n",
        "      LongArray=GMull(LongArray,A)\n",
        "    else :\n",
        "      LongArray=GSqare(LongArray)\n",
        "  return short0(LongArray)"
      ],
      "metadata": {
        "id": "rNRQREJglnHy"
      },
      "execution_count": null,
      "outputs": []
    },
    {
      "cell_type": "code",
      "source": [
        "def Long2To10(A):\n",
        "  X=str()\n",
        "  A=short0(A)\n",
        "  la=len(A)\n",
        "  temp=0\n",
        "  for i in range(0,la):\n",
        "    temp=temp+A[i]*(2**i)\n",
        "  for i in range(0,len(str(temp))):\n",
        "    X=X+str((int(str(temp)[len(str(temp))-i-1], base=10)))\n",
        "  return X"
      ],
      "metadata": {
        "id": "WvhfQqurnYQt"
      },
      "execution_count": null,
      "outputs": []
    },
    {
      "cell_type": "code",
      "source": [
        "def Long10To2(A):\n",
        "    LongArray= array('I',[])\n",
        "    X=bin(int(A))\n",
        "    for i in range(0,len(X)-2):\n",
        "      LongArray.append(int(X[len(X)-1-i]))\n",
        "    return LongArray\n"
      ],
      "metadata": {
        "id": "Ms8bcLOjwgiI"
      },
      "execution_count": null,
      "outputs": []
    },
    {
      "cell_type": "code",
      "source": [
        "def GObern(A):\n",
        "  Temp=(2**m)-2\n",
        "  return(GPower(A,Temp))"
      ],
      "metadata": {
        "id": "BgWw66u0mGMK"
      },
      "execution_count": null,
      "outputs": []
    },
    {
      "cell_type": "code",
      "source": [
        "def GTrace(A):\n",
        "  LongArray=array('I',[])\n",
        "  temp=A\n",
        "  for i in range(0,m):\n",
        "    LongArray=GAdd(LongArray,temp)\n",
        "    temp=GSqare(temp)\n",
        "  return LongArray"
      ],
      "metadata": {
        "id": "QWpz-wAyXXWv"
      },
      "execution_count": null,
      "outputs": []
    },
    {
      "cell_type": "code",
      "source": [
        "def LongEqual(A,B):\n",
        "  la=len(A)\n",
        "  lb=len(B)\n",
        "  if la<lb :\n",
        "    for i in range(la+1,lb+1):\n",
        "      A.append(0)\n",
        "  if lb<la :\n",
        "    for i in range(lb+1,la+1):\n",
        "      B.append(0)    \n",
        "  return A,B\n"
      ],
      "metadata": {
        "id": "uYb2McZnV3mn"
      },
      "execution_count": 1,
      "outputs": []
    },
    {
      "cell_type": "code",
      "source": [
        "import time\n",
        "import random\n",
        "A=array('I',[])\n",
        "for i in range(0,431):\n",
        "  A.append(random.randint(0,1))\n",
        "B=array('I',[])\n",
        "for i in range(0,431):\n",
        "  B.append(random.randint(0,1))\n",
        "\n",
        "\n",
        "A=Ginput()\n",
        "B=Ginput()\n",
        "\n",
        "\n",
        "start_time=time.time()\n",
        "Goutput(G0())\n",
        "print(\"--- %s seconds ---\" % (time.time()-start_time))\n",
        "\n",
        "start_time=time.time()\n",
        "Goutput(G1())\n",
        "print(\"--- %s seconds ---\" % (time.time()-start_time))\n",
        "\n",
        "start_time=time.time()\n",
        "Goutput(GAdd(A,B))\n",
        "print(\"--- %s seconds ---\" % (time.time()-start_time))\n",
        "\n",
        "start_time=time.time()\n",
        "Goutput(GMull(A,B))\n",
        "print(\"--- %s seconds ---\" % (time.time()-start_time))\n",
        "\n",
        "start_time=time.time()\n",
        "Goutput(GSqare(A))\n",
        "print(\"--- %s seconds ---\" % (time.time()-start_time))\n",
        "\n",
        "start_time=time.time()\n",
        "Goutput(GPower(A,Long2To10(B)))\n",
        "print(\"--- %s seconds ---\" % (time.time()-start_time))\n",
        "\n",
        "start_time=time.time()\n",
        "Goutput(GObern(A))\n",
        "print(\"--- %s seconds ---\" % (time.time()-start_time))\n",
        "\n",
        "start_time=time.time()\n",
        "Goutput(GTrace(A))\n",
        "print(\"--- %s seconds ---\" % (time.time()-start_time))\n",
        "\n",
        "\n"
      ],
      "metadata": {
        "colab": {
          "base_uri": "https://localhost:8080/"
        },
        "id": "0gEu3HXLazOm",
        "outputId": "da8e1c28-be0b-4ef4-eb91-a2c8a6d5ff94"
      },
      "execution_count": null,
      "outputs": [
        {
          "output_type": "stream",
          "name": "stdout",
          "text": [
            "00000001101001101110100000001010110001100110110111100001101001001100010110111011011010010011011110110101011011011110010000101110111000011001000101001110001000001011010100101011011111110000000101100101011100010010001100010110101010101010011111111011110011110010011010111101111000100010001101110011110110010000110101000110101011101111011010111100111000101011001101101000111100010110010010000010101111100001111010000110000110000110010\n",
            "00011000001000010011001010100100011101001001001001101001001101101111110001001000000000101001101010111101010001111011111111110101001000010100101011001110000010010010110011110011110110001101101100000010111010010010000111100011001000010010110110111000001011110110111001011011011100110100100101010001101110101000100011010000000101101001110110001001011111110001001010110100111001010111001100101110101000111101010010110000010001101000001\n",
            "00000000000000000000000000000000000000000000000000000000000000000000000000000000000000000000000000000000000000000000000000000000000000000000000000000000000000000000000000000000000000000000000000000000000000000000000000000000000000000000000000000000000000000000000000000000000000000000000000000000000000000000000000000000000000000000000000000000000000000000000000000000000000000000000000000000000000000000000000000000000000000000000\n",
            "--- 0.0005986690521240234 seconds ---\n",
            "00000000000000000000000000000000000000000000000000000000000000000000000000000000000000000000000000000000000000000000000000000000000000000000000000000000000000000000000000000000000000000000000000000000000000000000000000000000000000000000000000000000000000000000000000000000000000000000000000000000000000000000000000000000000000000000000000000000000000000000000000000000000000000000000000000000000000000000000000000000000000000000001\n",
            "--- 0.00027632713317871094 seconds ---\n",
            "00011001100001111101101010101110101100101111111110001000100100100011100111110011011010111010110100001000001010100101101111011011110000001101101110000000001010011001100111011000101001111101101001100111100110000000001011110101100010111000101001000011111000000100100011100110100100010110101000100010011000111000010110010110101110000110101100110101100111011010000111011100000101000001011110101100000111011100101000110110010111101110011\n",
            "--- 0.0035066604614257812 seconds ---\n",
            "101110100110010111100111111001001101010101101001000111111010101111101000110110000000110000001010111110110001000010101111010100001101111000000110101011101110100111010101101111001001111010111110111000010010111101011011010000100010001100010001011011010010111001011101111111001011101001000100111101000101000110010001101111101001100010011110100111101101010010010010001110111101111111000010110110010011111100100100100010010100000110010\n",
            "--- 0.47919654846191406 seconds ---\n",
            "10000000101010110100110000110110111101001100101010100000110001101101101000110100100101100101100111111110100010011100010010111010011100001001001111000111110001111011111001001011000001010001010111001101100100110011011001111001111101000011101010000110011111001111011000100011110010011010101100110010111111001000011010001010110011111001001110000110010001110001110101011101000000001000001100111110100100110011011110001011101001101010010\n",
            "--- 0.11412763595581055 seconds ---\n",
            "10111100011111000111010010111100000111111011010110010011110000001100100111111101010100101001001001101110100010011100101000101001111000001101100111000011101111010010111110111001111000110110011111110101101001111001011110000101010010010100111100101110111101010000001110011011010001101010110111000001001100011011111101110011001100110110111101000101000111001101100011101001111111001011101000101011011110100011101101101111001001011111111\n",
            "--- 155.31720995903015 seconds ---\n",
            "10010011010110100010000000100101000001110000010100100011010010000110011110011011010100111001001010111001100010011111101110010101100101011110101100011101011111110110011001111001000111001111100111111101100000000111101011010010111000000001110010111111101010101001110000111100011000001000100011011100111111001010110100010011011011101100110101011100011000100110001100001101101001011101111011001101000101011000101100011001100010001111111\n",
            "--- 256.9753782749176 seconds ---\n",
            "00000000000000000000000000000000000000000000000000000000000000000000000000000000000000000000000000000000000000000000000000000000000000000000000000000000000000000000000000000000000000000000000000000000000000000000000000000000000000000000000000000000000000000000000000000000000000000000000000000000000000000000000000000000000000000000000000000000000000000000000000000000000000000000000000000000000000000000000000000000000000000000000\n",
            "--- 52.62516760826111 seconds ---\n"
          ]
        }
      ]
    }
  ]
}