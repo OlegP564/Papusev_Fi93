{
  "nbformat": 4,
  "nbformat_minor": 0,
  "metadata": {
    "colab": {
      "name": "Cром3.ipynb",
      "provenance": [],
      "authorship_tag": "ABX9TyOSQykp4KcV3qYtwFhOrIvO",
      "include_colab_link": true
    },
    "kernelspec": {
      "name": "python3",
      "display_name": "Python 3"
    },
    "language_info": {
      "name": "python"
    }
  },
  "cells": [
    {
      "cell_type": "markdown",
      "metadata": {
        "id": "view-in-github",
        "colab_type": "text"
      },
      "source": [
        "<a href=\"https://colab.research.google.com/github/OlegP564/Papusev_Fi93/blob/main/C%D1%80%D0%BE%D0%BC3.ipynb\" target=\"_parent\"><img src=\"https://colab.research.google.com/assets/colab-badge.svg\" alt=\"Open In Colab\"/></a>"
      ]
    },
    {
      "cell_type": "code",
      "execution_count": 288,
      "metadata": {
        "colab": {
          "base_uri": "https://localhost:8080/"
        },
        "id": "O2vW6AhnTa1Y",
        "outputId": "502ea851-529a-4d41-d60e-90c55b928640"
      },
      "outputs": [
        {
          "output_type": "execute_result",
          "data": {
            "text/plain": [
              "432"
            ]
          },
          "metadata": {},
          "execution_count": 288
        }
      ],
      "source": [
        "import numpy as num\n",
        "from array import *\n",
        "m=431\n",
        "p= array('I',[])\n",
        "p.append(int(1))\n",
        "for i in range(0,425):\n",
        "   p.append(int(0))\n",
        "p.append(int(1))\n",
        "p.append(int(0))\n",
        "p.append(int(1))\n",
        "p.append(int(0))\n",
        "p.append(int(1))\n",
        "p.append(int(1))\n",
        "len(p)"
      ]
    },
    {
      "cell_type": "code",
      "source": [
        "def Ginput():\n",
        "  A = input()\n",
        "  GArray= array('I',[])\n",
        "  for i in range(0,len(A)):\n",
        "    GArray.append(int(A[len(A)-i-1]))\n",
        "  return GArray"
      ],
      "metadata": {
        "id": "iaWtOccNVmTR"
      },
      "execution_count": 3,
      "outputs": []
    },
    {
      "cell_type": "code",
      "source": [
        "def Goutput(LongArray):\n",
        "  X=str()\n",
        "  l=len(LongArray)\n",
        "  for i in range(0,l):\n",
        "    X=X+str(LongArray[l-i-1])\n",
        "  print(X)"
      ],
      "metadata": {
        "id": "fVRVk3CAWYHz"
      },
      "execution_count": 134,
      "outputs": []
    },
    {
      "cell_type": "code",
      "source": [
        "def G0():\n",
        "    X= array('I',[])\n",
        "    for i in range(0,m):\n",
        "      X.append(0)\n",
        "    return X"
      ],
      "metadata": {
        "id": "TPos-74cWzmf"
      },
      "execution_count": 23,
      "outputs": []
    },
    {
      "cell_type": "code",
      "source": [
        "def G1():\n",
        "    X= array('I',[1])\n",
        "    for i in range(0,m-1):\n",
        "      X.append(0)\n",
        "    return X"
      ],
      "metadata": {
        "id": "M2pq3wgwYOC3"
      },
      "execution_count": 22,
      "outputs": []
    },
    {
      "cell_type": "code",
      "source": [
        "def GAdd(A,B):\n",
        "  LongEqual(A,B)\n",
        "  l=len(A)\n",
        "  LongArray= array('I',[])\n",
        "  for i in range(0,l):\n",
        "    temp= A[i]+B[i]\n",
        "    LongArray.append(num.mod(temp,2))\n",
        "  return LongArray\n"
      ],
      "metadata": {
        "id": "c8ovWvEIYoge"
      },
      "execution_count": 27,
      "outputs": []
    },
    {
      "cell_type": "code",
      "source": [
        "def LongShiftbeatstohigh (A, b):\n",
        "    Temp= array('I',[])\n",
        "    for i in range (0, len(A)):\n",
        "      Temp.append(A[i])\n",
        "    for i in range(0,b):\n",
        "      Temp.insert(0,0)\n",
        "    return Temp"
      ],
      "metadata": {
        "id": "SjE0ha92eq9B"
      },
      "execution_count": 26,
      "outputs": []
    },
    {
      "cell_type": "code",
      "source": [
        "def LongCmp(A,B):\n",
        "  Temp1=A\n",
        "  Temp2=B\n",
        "  LongEqual(Temp1,Temp2)\n",
        "  la=len(Temp1)-1\n",
        "  while A[la]== B[la]:\n",
        "    la=la-1\n",
        "    if la==-1:\n",
        "      return 0\n",
        "  else:\n",
        "    if Temp1[la]>Temp2[la]:\n",
        "      return 1\n",
        "    else:\n",
        "       return -1\n",
        "  return r"
      ],
      "metadata": {
        "id": "xN1zdYVZgzx2"
      },
      "execution_count": 41,
      "outputs": []
    },
    {
      "cell_type": "code",
      "source": [
        "def LongSub (A,B):\n",
        "  LongEqual(A,B)\n",
        "  n=len(A)\n",
        "  LongArray= array('I',[])\n",
        "  borrow =0\n",
        "  for i in range(0,n):\n",
        "      temp=A[i]-B[i]-borrow\n",
        "      if temp>=0:\n",
        "         LongArray.append(temp)\n",
        "         borrow=0\n",
        "      else:\n",
        "         LongArray.append(1)\n",
        "         borrow=1\n",
        "  return LongArray"
      ],
      "metadata": {
        "id": "qIjr7L47hpHa"
      },
      "execution_count": 146,
      "outputs": []
    },
    {
      "cell_type": "code",
      "source": [
        "def GMOD (A, B):\n",
        "  B=short0(B)\n",
        "  lb=len(B)\n",
        "  R=A\n",
        "  while LongCmp(R,B)>=0:\n",
        "    B=short0(B)\n",
        "    R=short0(R)\n",
        "    lr=len(R)\n",
        "    C=LongShiftbeatstohigh(B,lr-lb)\n",
        "    if LongCmp(R,C)<0:\n",
        "      lr=lr-1\n",
        "      B=short0(B)\n",
        "      C=LongShiftbeatstohigh(B,lr-lb)\n",
        "    R=LongSub(R,C)\n",
        "  return R\n",
        "\n"
      ],
      "metadata": {
        "id": "_UoD3E26gdAa"
      },
      "execution_count": 159,
      "outputs": []
    },
    {
      "cell_type": "code",
      "source": [
        "def short0 (A):\n",
        "  la=len(A)\n",
        "  for i in range(0,la):\n",
        "    if A[la-i-1]==0:\n",
        "      A.pop(la-i-1)\n",
        "    else :\n",
        "      return A\n"
      ],
      "metadata": {
        "id": "DWcILk0jAY6q"
      },
      "execution_count": 154,
      "outputs": []
    },
    {
      "cell_type": "code",
      "source": [
        "def GMull(A,B):\n",
        "  LongArray= array('I',[])\n",
        "  for i in range(0,len(A)):\n",
        "    if (A[i]==1):\n",
        "      LongArray=GAdd(LongArray,LongShiftbeatstohigh(B,i))\n",
        "  LongArray=GMOD(LongArray,p)\n",
        "  return short0(LongArray)\n"
      ],
      "metadata": {
        "id": "go798716cJle"
      },
      "execution_count": 207,
      "outputs": []
    },
    {
      "cell_type": "code",
      "source": [
        "def GSqare(A):\n",
        "    LongArray= array('I',[])\n",
        "    for i in range (0, len(A)):\n",
        "      LongArray.append(A[i])\n",
        "      LongArray.append(0)\n",
        "    LongArray.pop(len(LongArray)-1)\n",
        "    LongArray=GMOD(LongArray,p)\n",
        "    return short0(LongArray)"
      ],
      "metadata": {
        "id": "jryjUtoakUl4"
      },
      "execution_count": 206,
      "outputs": []
    },
    {
      "cell_type": "code",
      "source": [
        "def GPower(A,b):\n",
        "  short0(A)\n",
        "  temp=Long10To2(b)\n",
        "  temp=short0(temp)\n",
        "  lb=len(temp)\n",
        "  LongArray= array('I',[1])\n",
        "  for i in range(0, lb):\n",
        "    if temp[lb-i-1]==1:\n",
        "      LongArray=GSqare(LongArray)\n",
        "      LongArray=GMull(LongArray,A)\n",
        "    else :\n",
        "      LongArray=GSqare(LongArray)\n",
        "  return short0(LongArray)"
      ],
      "metadata": {
        "id": "rNRQREJglnHy"
      },
      "execution_count": 260,
      "outputs": []
    },
    {
      "cell_type": "code",
      "source": [
        "def Long10To2(A):\n",
        "    LongArray= array('I',[])\n",
        "    X=bin(int(A))\n",
        "    for i in range(0,len(X)-2):\n",
        "      LongArray.append(int(X[len(X)-1-i]))\n",
        "    return LongArray"
      ],
      "metadata": {
        "id": "WvhfQqurnYQt"
      },
      "execution_count": 248,
      "outputs": []
    },
    {
      "cell_type": "code",
      "source": [
        "def GObern(A):\n",
        "  Temp=(2**m)-2\n",
        "  return(GPower(A,Temp))"
      ],
      "metadata": {
        "id": "BgWw66u0mGMK"
      },
      "execution_count": 171,
      "outputs": []
    },
    {
      "cell_type": "code",
      "source": [
        "def GTrace(A):\n",
        "  LongArray=A\n",
        "  for i in range(0,m):\n",
        "    LongArray=GAdd(LongArray,GSqare(LongArray))\n",
        "  return LongArray"
      ],
      "metadata": {
        "id": "QWpz-wAyXXWv"
      },
      "execution_count": 253,
      "outputs": []
    },
    {
      "cell_type": "code",
      "source": [
        "import time\n",
        "import random\n",
        "A=array('I',[])\n",
        "for i in range(0,431):\n",
        "  A.append(random.randint(0,1))\n",
        "B=array('I',[])\n",
        "for i in range(0,431):\n",
        "  B.append(random.randint(0,1))\n",
        "\n",
        "A=Ginput()\n",
        "B=Ginput()\n",
        "\n",
        "start_time=time.time()\n",
        "Goutput(GTrace(A))\n",
        "print(\"--- %s seconds ---\" % (time.time()-start_time))\n",
        "\n",
        "\n"
      ],
      "metadata": {
        "colab": {
          "base_uri": "https://localhost:8080/"
        },
        "id": "0gEu3HXLazOm",
        "outputId": "974cc2f9-edd3-4bda-d986-1f5f1e73af24"
      },
      "execution_count": 289,
      "outputs": [
        {
          "output_type": "stream",
          "name": "stdout",
          "text": [
            "0111100111\n",
            "111111101\n",
            "111110110111101100110100001101110101000111001000101001100000001000001010100100110111010101000011010010010010010001011110001001011100100010101100110010111010010001000111000011010111010000110001101110111101001000100101001110101110001000000101110010001100000011111101110001011110001101100111110101000011100010100001101010010011011110000011111100110110110011101100011110000001011000111111001101011001010101001101000010010010111001011000\n",
            "--- 42.68131637573242 seconds ---\n"
          ]
        }
      ]
    }
  ]
}